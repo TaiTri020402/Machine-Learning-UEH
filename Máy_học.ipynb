{
  "nbformat": 4,
  "nbformat_minor": 0,
  "metadata": {
    "colab": {
      "provenance": [],
      "collapsed_sections": [
        "NggFOGOAR3Ar"
      ]
    },
    "kernelspec": {
      "name": "python3",
      "display_name": "Python 3"
    },
    "language_info": {
      "name": "python"
    }
  },
  "cells": [
    {
      "cell_type": "markdown",
      "source": [
        "# Import"
      ],
      "metadata": {
        "id": "NggFOGOAR3Ar"
      }
    },
    {
      "cell_type": "code",
      "execution_count": 1,
      "metadata": {
        "colab": {
          "base_uri": "https://localhost:8080/"
        },
        "id": "ZmLUDUKhOZmK",
        "outputId": "193dbb03-a55e-4df5-efb4-7b3c300bd055"
      },
      "outputs": [
        {
          "output_type": "stream",
          "name": "stdout",
          "text": [
            "Looking in indexes: https://pypi.org/simple, https://us-python.pkg.dev/colab-wheels/public/simple/\n",
            "Requirement already satisfied: cufflinks in /usr/local/lib/python3.9/dist-packages (0.17.3)\n",
            "Requirement already satisfied: ipython>=5.3.0 in /usr/local/lib/python3.9/dist-packages (from cufflinks) (7.34.0)\n",
            "Requirement already satisfied: setuptools>=34.4.1 in /usr/local/lib/python3.9/dist-packages (from cufflinks) (67.6.1)\n",
            "Requirement already satisfied: numpy>=1.9.2 in /usr/local/lib/python3.9/dist-packages (from cufflinks) (1.22.4)\n",
            "Requirement already satisfied: plotly>=4.1.1 in /usr/local/lib/python3.9/dist-packages (from cufflinks) (5.13.1)\n",
            "Requirement already satisfied: ipywidgets>=7.0.0 in /usr/local/lib/python3.9/dist-packages (from cufflinks) (7.7.1)\n",
            "Requirement already satisfied: colorlover>=0.2.1 in /usr/local/lib/python3.9/dist-packages (from cufflinks) (0.3.0)\n",
            "Requirement already satisfied: pandas>=0.19.2 in /usr/local/lib/python3.9/dist-packages (from cufflinks) (1.5.3)\n",
            "Requirement already satisfied: six>=1.9.0 in /usr/local/lib/python3.9/dist-packages (from cufflinks) (1.16.0)\n",
            "Requirement already satisfied: jedi>=0.16 in /usr/local/lib/python3.9/dist-packages (from ipython>=5.3.0->cufflinks) (0.18.2)\n",
            "Requirement already satisfied: prompt-toolkit!=3.0.0,!=3.0.1,<3.1.0,>=2.0.0 in /usr/local/lib/python3.9/dist-packages (from ipython>=5.3.0->cufflinks) (3.0.38)\n",
            "Requirement already satisfied: matplotlib-inline in /usr/local/lib/python3.9/dist-packages (from ipython>=5.3.0->cufflinks) (0.1.6)\n",
            "Requirement already satisfied: decorator in /usr/local/lib/python3.9/dist-packages (from ipython>=5.3.0->cufflinks) (4.4.2)\n",
            "Requirement already satisfied: pexpect>4.3 in /usr/local/lib/python3.9/dist-packages (from ipython>=5.3.0->cufflinks) (4.8.0)\n",
            "Requirement already satisfied: backcall in /usr/local/lib/python3.9/dist-packages (from ipython>=5.3.0->cufflinks) (0.2.0)\n",
            "Requirement already satisfied: pickleshare in /usr/local/lib/python3.9/dist-packages (from ipython>=5.3.0->cufflinks) (0.7.5)\n",
            "Requirement already satisfied: pygments in /usr/local/lib/python3.9/dist-packages (from ipython>=5.3.0->cufflinks) (2.14.0)\n",
            "Requirement already satisfied: traitlets>=4.2 in /usr/local/lib/python3.9/dist-packages (from ipython>=5.3.0->cufflinks) (5.7.1)\n",
            "Requirement already satisfied: jupyterlab-widgets>=1.0.0 in /usr/local/lib/python3.9/dist-packages (from ipywidgets>=7.0.0->cufflinks) (3.0.7)\n",
            "Requirement already satisfied: ipykernel>=4.5.1 in /usr/local/lib/python3.9/dist-packages (from ipywidgets>=7.0.0->cufflinks) (5.5.6)\n",
            "Requirement already satisfied: widgetsnbextension~=3.6.0 in /usr/local/lib/python3.9/dist-packages (from ipywidgets>=7.0.0->cufflinks) (3.6.4)\n",
            "Requirement already satisfied: ipython-genutils~=0.2.0 in /usr/local/lib/python3.9/dist-packages (from ipywidgets>=7.0.0->cufflinks) (0.2.0)\n",
            "Requirement already satisfied: pytz>=2020.1 in /usr/local/lib/python3.9/dist-packages (from pandas>=0.19.2->cufflinks) (2022.7.1)\n",
            "Requirement already satisfied: python-dateutil>=2.8.1 in /usr/local/lib/python3.9/dist-packages (from pandas>=0.19.2->cufflinks) (2.8.2)\n",
            "Requirement already satisfied: tenacity>=6.2.0 in /usr/local/lib/python3.9/dist-packages (from plotly>=4.1.1->cufflinks) (8.2.2)\n",
            "Requirement already satisfied: jupyter-client in /usr/local/lib/python3.9/dist-packages (from ipykernel>=4.5.1->ipywidgets>=7.0.0->cufflinks) (6.1.12)\n",
            "Requirement already satisfied: tornado>=4.2 in /usr/local/lib/python3.9/dist-packages (from ipykernel>=4.5.1->ipywidgets>=7.0.0->cufflinks) (6.2)\n",
            "Requirement already satisfied: parso<0.9.0,>=0.8.0 in /usr/local/lib/python3.9/dist-packages (from jedi>=0.16->ipython>=5.3.0->cufflinks) (0.8.3)\n",
            "Requirement already satisfied: ptyprocess>=0.5 in /usr/local/lib/python3.9/dist-packages (from pexpect>4.3->ipython>=5.3.0->cufflinks) (0.7.0)\n",
            "Requirement already satisfied: wcwidth in /usr/local/lib/python3.9/dist-packages (from prompt-toolkit!=3.0.0,!=3.0.1,<3.1.0,>=2.0.0->ipython>=5.3.0->cufflinks) (0.2.6)\n",
            "Requirement already satisfied: notebook>=4.4.1 in /usr/local/lib/python3.9/dist-packages (from widgetsnbextension~=3.6.0->ipywidgets>=7.0.0->cufflinks) (6.4.8)\n",
            "Requirement already satisfied: nbconvert in /usr/local/lib/python3.9/dist-packages (from notebook>=4.4.1->widgetsnbextension~=3.6.0->ipywidgets>=7.0.0->cufflinks) (6.5.4)\n",
            "Requirement already satisfied: jupyter-core>=4.6.1 in /usr/local/lib/python3.9/dist-packages (from notebook>=4.4.1->widgetsnbextension~=3.6.0->ipywidgets>=7.0.0->cufflinks) (5.3.0)\n",
            "Requirement already satisfied: nest-asyncio>=1.5 in /usr/local/lib/python3.9/dist-packages (from notebook>=4.4.1->widgetsnbextension~=3.6.0->ipywidgets>=7.0.0->cufflinks) (1.5.6)\n",
            "Requirement already satisfied: jinja2 in /usr/local/lib/python3.9/dist-packages (from notebook>=4.4.1->widgetsnbextension~=3.6.0->ipywidgets>=7.0.0->cufflinks) (3.1.2)\n",
            "Requirement already satisfied: nbformat in /usr/local/lib/python3.9/dist-packages (from notebook>=4.4.1->widgetsnbextension~=3.6.0->ipywidgets>=7.0.0->cufflinks) (5.8.0)\n",
            "Requirement already satisfied: terminado>=0.8.3 in /usr/local/lib/python3.9/dist-packages (from notebook>=4.4.1->widgetsnbextension~=3.6.0->ipywidgets>=7.0.0->cufflinks) (0.17.1)\n",
            "Requirement already satisfied: pyzmq>=17 in /usr/local/lib/python3.9/dist-packages (from notebook>=4.4.1->widgetsnbextension~=3.6.0->ipywidgets>=7.0.0->cufflinks) (23.2.1)\n",
            "Requirement already satisfied: argon2-cffi in /usr/local/lib/python3.9/dist-packages (from notebook>=4.4.1->widgetsnbextension~=3.6.0->ipywidgets>=7.0.0->cufflinks) (21.3.0)\n",
            "Requirement already satisfied: prometheus-client in /usr/local/lib/python3.9/dist-packages (from notebook>=4.4.1->widgetsnbextension~=3.6.0->ipywidgets>=7.0.0->cufflinks) (0.16.0)\n",
            "Requirement already satisfied: Send2Trash>=1.8.0 in /usr/local/lib/python3.9/dist-packages (from notebook>=4.4.1->widgetsnbextension~=3.6.0->ipywidgets>=7.0.0->cufflinks) (1.8.0)\n",
            "Requirement already satisfied: platformdirs>=2.5 in /usr/local/lib/python3.9/dist-packages (from jupyter-core>=4.6.1->notebook>=4.4.1->widgetsnbextension~=3.6.0->ipywidgets>=7.0.0->cufflinks) (3.2.0)\n",
            "Requirement already satisfied: argon2-cffi-bindings in /usr/local/lib/python3.9/dist-packages (from argon2-cffi->notebook>=4.4.1->widgetsnbextension~=3.6.0->ipywidgets>=7.0.0->cufflinks) (21.2.0)\n",
            "Requirement already satisfied: MarkupSafe>=2.0 in /usr/local/lib/python3.9/dist-packages (from jinja2->notebook>=4.4.1->widgetsnbextension~=3.6.0->ipywidgets>=7.0.0->cufflinks) (2.1.2)\n",
            "Requirement already satisfied: nbclient>=0.5.0 in /usr/local/lib/python3.9/dist-packages (from nbconvert->notebook>=4.4.1->widgetsnbextension~=3.6.0->ipywidgets>=7.0.0->cufflinks) (0.7.3)\n",
            "Requirement already satisfied: pandocfilters>=1.4.1 in /usr/local/lib/python3.9/dist-packages (from nbconvert->notebook>=4.4.1->widgetsnbextension~=3.6.0->ipywidgets>=7.0.0->cufflinks) (1.5.0)\n",
            "Requirement already satisfied: packaging in /usr/local/lib/python3.9/dist-packages (from nbconvert->notebook>=4.4.1->widgetsnbextension~=3.6.0->ipywidgets>=7.0.0->cufflinks) (23.0)\n",
            "Requirement already satisfied: mistune<2,>=0.8.1 in /usr/local/lib/python3.9/dist-packages (from nbconvert->notebook>=4.4.1->widgetsnbextension~=3.6.0->ipywidgets>=7.0.0->cufflinks) (0.8.4)\n",
            "Requirement already satisfied: lxml in /usr/local/lib/python3.9/dist-packages (from nbconvert->notebook>=4.4.1->widgetsnbextension~=3.6.0->ipywidgets>=7.0.0->cufflinks) (4.9.2)\n",
            "Requirement already satisfied: bleach in /usr/local/lib/python3.9/dist-packages (from nbconvert->notebook>=4.4.1->widgetsnbextension~=3.6.0->ipywidgets>=7.0.0->cufflinks) (6.0.0)\n",
            "Requirement already satisfied: beautifulsoup4 in /usr/local/lib/python3.9/dist-packages (from nbconvert->notebook>=4.4.1->widgetsnbextension~=3.6.0->ipywidgets>=7.0.0->cufflinks) (4.11.2)\n",
            "Requirement already satisfied: jupyterlab-pygments in /usr/local/lib/python3.9/dist-packages (from nbconvert->notebook>=4.4.1->widgetsnbextension~=3.6.0->ipywidgets>=7.0.0->cufflinks) (0.2.2)\n",
            "Requirement already satisfied: defusedxml in /usr/local/lib/python3.9/dist-packages (from nbconvert->notebook>=4.4.1->widgetsnbextension~=3.6.0->ipywidgets>=7.0.0->cufflinks) (0.7.1)\n",
            "Requirement already satisfied: entrypoints>=0.2.2 in /usr/local/lib/python3.9/dist-packages (from nbconvert->notebook>=4.4.1->widgetsnbextension~=3.6.0->ipywidgets>=7.0.0->cufflinks) (0.4)\n",
            "Requirement already satisfied: tinycss2 in /usr/local/lib/python3.9/dist-packages (from nbconvert->notebook>=4.4.1->widgetsnbextension~=3.6.0->ipywidgets>=7.0.0->cufflinks) (1.2.1)\n",
            "Requirement already satisfied: jsonschema>=2.6 in /usr/local/lib/python3.9/dist-packages (from nbformat->notebook>=4.4.1->widgetsnbextension~=3.6.0->ipywidgets>=7.0.0->cufflinks) (4.3.3)\n",
            "Requirement already satisfied: fastjsonschema in /usr/local/lib/python3.9/dist-packages (from nbformat->notebook>=4.4.1->widgetsnbextension~=3.6.0->ipywidgets>=7.0.0->cufflinks) (2.16.3)\n",
            "Requirement already satisfied: attrs>=17.4.0 in /usr/local/lib/python3.9/dist-packages (from jsonschema>=2.6->nbformat->notebook>=4.4.1->widgetsnbextension~=3.6.0->ipywidgets>=7.0.0->cufflinks) (22.2.0)\n",
            "Requirement already satisfied: pyrsistent!=0.17.0,!=0.17.1,!=0.17.2,>=0.14.0 in /usr/local/lib/python3.9/dist-packages (from jsonschema>=2.6->nbformat->notebook>=4.4.1->widgetsnbextension~=3.6.0->ipywidgets>=7.0.0->cufflinks) (0.19.3)\n",
            "Requirement already satisfied: cffi>=1.0.1 in /usr/local/lib/python3.9/dist-packages (from argon2-cffi-bindings->argon2-cffi->notebook>=4.4.1->widgetsnbextension~=3.6.0->ipywidgets>=7.0.0->cufflinks) (1.15.1)\n",
            "Requirement already satisfied: soupsieve>1.2 in /usr/local/lib/python3.9/dist-packages (from beautifulsoup4->nbconvert->notebook>=4.4.1->widgetsnbextension~=3.6.0->ipywidgets>=7.0.0->cufflinks) (2.4)\n",
            "Requirement already satisfied: webencodings in /usr/local/lib/python3.9/dist-packages (from bleach->nbconvert->notebook>=4.4.1->widgetsnbextension~=3.6.0->ipywidgets>=7.0.0->cufflinks) (0.5.1)\n",
            "Requirement already satisfied: pycparser in /usr/local/lib/python3.9/dist-packages (from cffi>=1.0.1->argon2-cffi-bindings->argon2-cffi->notebook>=4.4.1->widgetsnbextension~=3.6.0->ipywidgets>=7.0.0->cufflinks) (2.21)\n"
          ]
        }
      ],
      "source": [
        "!pip install cufflinks"
      ]
    },
    {
      "cell_type": "code",
      "source": [
        "!pip install chart_studio"
      ],
      "metadata": {
        "colab": {
          "base_uri": "https://localhost:8080/"
        },
        "id": "4LkwcupKRPO1",
        "outputId": "0ea619cc-fa7f-49fd-b50a-44cd365779b2"
      },
      "execution_count": 2,
      "outputs": [
        {
          "output_type": "stream",
          "name": "stdout",
          "text": [
            "Looking in indexes: https://pypi.org/simple, https://us-python.pkg.dev/colab-wheels/public/simple/\n",
            "Requirement already satisfied: chart_studio in /usr/local/lib/python3.9/dist-packages (1.1.0)\n",
            "Requirement already satisfied: plotly in /usr/local/lib/python3.9/dist-packages (from chart_studio) (5.13.1)\n",
            "Requirement already satisfied: retrying>=1.3.3 in /usr/local/lib/python3.9/dist-packages (from chart_studio) (1.3.4)\n",
            "Requirement already satisfied: six in /usr/local/lib/python3.9/dist-packages (from chart_studio) (1.16.0)\n",
            "Requirement already satisfied: requests in /usr/local/lib/python3.9/dist-packages (from chart_studio) (2.27.1)\n",
            "Requirement already satisfied: tenacity>=6.2.0 in /usr/local/lib/python3.9/dist-packages (from plotly->chart_studio) (8.2.2)\n",
            "Requirement already satisfied: certifi>=2017.4.17 in /usr/local/lib/python3.9/dist-packages (from requests->chart_studio) (2022.12.7)\n",
            "Requirement already satisfied: idna<4,>=2.5 in /usr/local/lib/python3.9/dist-packages (from requests->chart_studio) (3.4)\n",
            "Requirement already satisfied: charset-normalizer~=2.0.0 in /usr/local/lib/python3.9/dist-packages (from requests->chart_studio) (2.0.12)\n",
            "Requirement already satisfied: urllib3<1.27,>=1.21.1 in /usr/local/lib/python3.9/dist-packages (from requests->chart_studio) (1.26.15)\n"
          ]
        }
      ]
    },
    {
      "cell_type": "code",
      "source": [
        "!pip install plotly"
      ],
      "metadata": {
        "colab": {
          "base_uri": "https://localhost:8080/"
        },
        "id": "bFqpCideRQi_",
        "outputId": "6f5c762e-051b-47d8-a58f-9cae4fef8f95"
      },
      "execution_count": 3,
      "outputs": [
        {
          "output_type": "stream",
          "name": "stdout",
          "text": [
            "Looking in indexes: https://pypi.org/simple, https://us-python.pkg.dev/colab-wheels/public/simple/\n",
            "Requirement already satisfied: plotly in /usr/local/lib/python3.9/dist-packages (5.13.1)\n",
            "Requirement already satisfied: tenacity>=6.2.0 in /usr/local/lib/python3.9/dist-packages (from plotly) (8.2.2)\n"
          ]
        }
      ]
    },
    {
      "cell_type": "code",
      "source": [
        "import numpy as np\n",
        "import pandas as pd\n",
        "\n",
        "import seaborn as sns\n",
        "import matplotlib.pyplot as plt\n",
        "sns.set_style(\"darkgrid\")\n",
        "\n",
        "from collections import Counter\n",
        "\n",
        "from sklearn.preprocessing import StandardScaler\n",
        "from sklearn.preprocessing import RobustScaler\n",
        "from sklearn.preprocessing import label_binarize\n",
        "from sklearn.preprocessing import LabelEncoder\n",
        "from sklearn.preprocessing import OneHotEncoder\n",
        "\n",
        "from sklearn.ensemble import RandomForestClassifier\n",
        "from sklearn.ensemble import VotingClassifier\n",
        "from sklearn.ensemble import GradientBoostingClassifier\n",
        "\n",
        "from sklearn.svm import SVC\n",
        "from sklearn.svm import LinearSVC\n",
        "\n",
        "from sklearn.neighbors import KNeighborsClassifier\n",
        "from sklearn.tree import DecisionTreeClassifier\n",
        "from sklearn.linear_model import LogisticRegression\n",
        "from sklearn.linear_model import SGDClassifier\n",
        "from sklearn.discriminant_analysis import LinearDiscriminantAnalysis as LDA\n",
        "\n",
        "from sklearn.model_selection import train_test_split\n",
        "from sklearn.model_selection import StratifiedKFold\n",
        "from sklearn.model_selection import GridSearchCV\n",
        "\n",
        "from sklearn.metrics import confusion_matrix\n",
        "from sklearn.metrics import classification_report\n",
        "from sklearn.metrics import roc_auc_score\n",
        "from sklearn.metrics import auc\n",
        "from sklearn.metrics import precision_score\n",
        "from sklearn.metrics import recall_score\n",
        "from sklearn.metrics import accuracy_score\n",
        "from sklearn.metrics import mean_squared_error\n",
        "from sklearn.metrics import f1_score\n",
        "from sklearn.metrics import roc_curve\n",
        "from sklearn.multiclass import OneVsRestClassifier\n",
        "\n",
        "from lightgbm import LGBMClassifier\n",
        "\n",
        "import warnings\n",
        "warnings.filterwarnings(\"ignore\")\n",
        "\n",
        "\n",
        "import chart_studio.plotly as py\n",
        "import cufflinks as cf\n",
        "\n",
        "import plotly.express as px\n",
        "%matplotlib inline\n",
        "\n",
        "from plotly.offline import download_plotlyjs, init_notebook_mode, plot, iplot\n",
        "init_notebook_mode(connected = True)\n",
        "cf.go_offline();\n",
        "\n",
        "import plotly.graph_objs as go"
      ],
      "metadata": {
        "colab": {
          "base_uri": "https://localhost:8080/",
          "height": 17
        },
        "id": "aH9si4c-RQso",
        "outputId": "ee1ca23d-4300-4807-9665-f3fbb03ce3f0"
      },
      "execution_count": 4,
      "outputs": [
        {
          "output_type": "display_data",
          "data": {
            "text/html": [
              "        <script type=\"text/javascript\">\n",
              "        window.PlotlyConfig = {MathJaxConfig: 'local'};\n",
              "        if (window.MathJax && window.MathJax.Hub && window.MathJax.Hub.Config) {window.MathJax.Hub.Config({SVG: {font: \"STIX-Web\"}});}\n",
              "        if (typeof require !== 'undefined') {\n",
              "        require.undef(\"plotly\");\n",
              "        requirejs.config({\n",
              "            paths: {\n",
              "                'plotly': ['https://cdn.plot.ly/plotly-2.18.2.min']\n",
              "            }\n",
              "        });\n",
              "        require(['plotly'], function(Plotly) {\n",
              "            window._Plotly = Plotly;\n",
              "        });\n",
              "        }\n",
              "        </script>\n",
              "        "
            ]
          },
          "metadata": {}
        },
        {
          "output_type": "display_data",
          "data": {
            "text/html": [
              "        <script type=\"text/javascript\">\n",
              "        window.PlotlyConfig = {MathJaxConfig: 'local'};\n",
              "        if (window.MathJax && window.MathJax.Hub && window.MathJax.Hub.Config) {window.MathJax.Hub.Config({SVG: {font: \"STIX-Web\"}});}\n",
              "        if (typeof require !== 'undefined') {\n",
              "        require.undef(\"plotly\");\n",
              "        requirejs.config({\n",
              "            paths: {\n",
              "                'plotly': ['https://cdn.plot.ly/plotly-2.18.2.min']\n",
              "            }\n",
              "        });\n",
              "        require(['plotly'], function(Plotly) {\n",
              "            window._Plotly = Plotly;\n",
              "        });\n",
              "        }\n",
              "        </script>\n",
              "        "
            ]
          },
          "metadata": {}
        }
      ]
    },
    {
      "cell_type": "markdown",
      "source": [
        "# Data Preprocessing"
      ],
      "metadata": {
        "id": "wJGBIONTRKNB"
      }
    },
    {
      "cell_type": "code",
      "source": [
        "# Đọc file dữ liệu\n",
        "df = pd.read_csv('mobile_data.csv')\n",
        "df.head()"
      ],
      "metadata": {
        "colab": {
          "base_uri": "https://localhost:8080/",
          "height": 299
        },
        "id": "dVohuqCFRLbp",
        "outputId": "2907ea0c-f408-4e67-c927-b7529e0d12be"
      },
      "execution_count": 5,
      "outputs": [
        {
          "output_type": "execute_result",
          "data": {
            "text/plain": [
              "   battery_power  blue  clock_speed  dual_sim  fc  four_g  int_memory  m_dep  \\\n",
              "0            842   NaN          2.2       0.0   1     0.0           7    0.6   \n",
              "1           1021   1.0          0.5       1.0   0     1.0          53    0.7   \n",
              "2            563   1.0          0.5       1.0   2     1.0          41    0.9   \n",
              "3            615   1.0          2.5       0.0   0     0.0          10    0.8   \n",
              "4           1821   1.0          1.2       0.0  13     1.0          44    0.6   \n",
              "\n",
              "   mobile_wt  n_cores  ...  px_height  px_width   ram  sc_h  sc_w  talk_time  \\\n",
              "0        188        2  ...         20       756  2549   9.0     7         19   \n",
              "1        136        3  ...        905      1988  2631  17.0     3          7   \n",
              "2        145        5  ...       1263      1716  2603  11.0     2          9   \n",
              "3        131        6  ...       1216      1786  2769  16.0     8         11   \n",
              "4        141        2  ...       1208      1212  1411   8.0     2         15   \n",
              "\n",
              "   three_g  touch_screen wifi price_range  \n",
              "0      0.0            No  Yes           1  \n",
              "1      1.0           Yes   No           2  \n",
              "2      1.0           Yes   No           2  \n",
              "3      1.0            No   No           2  \n",
              "4      1.0           Yes   No           1  \n",
              "\n",
              "[5 rows x 21 columns]"
            ],
            "text/html": [
              "\n",
              "  <div id=\"df-baba1992-7df2-468f-a8f2-5daa6c412d6d\">\n",
              "    <div class=\"colab-df-container\">\n",
              "      <div>\n",
              "<style scoped>\n",
              "    .dataframe tbody tr th:only-of-type {\n",
              "        vertical-align: middle;\n",
              "    }\n",
              "\n",
              "    .dataframe tbody tr th {\n",
              "        vertical-align: top;\n",
              "    }\n",
              "\n",
              "    .dataframe thead th {\n",
              "        text-align: right;\n",
              "    }\n",
              "</style>\n",
              "<table border=\"1\" class=\"dataframe\">\n",
              "  <thead>\n",
              "    <tr style=\"text-align: right;\">\n",
              "      <th></th>\n",
              "      <th>battery_power</th>\n",
              "      <th>blue</th>\n",
              "      <th>clock_speed</th>\n",
              "      <th>dual_sim</th>\n",
              "      <th>fc</th>\n",
              "      <th>four_g</th>\n",
              "      <th>int_memory</th>\n",
              "      <th>m_dep</th>\n",
              "      <th>mobile_wt</th>\n",
              "      <th>n_cores</th>\n",
              "      <th>...</th>\n",
              "      <th>px_height</th>\n",
              "      <th>px_width</th>\n",
              "      <th>ram</th>\n",
              "      <th>sc_h</th>\n",
              "      <th>sc_w</th>\n",
              "      <th>talk_time</th>\n",
              "      <th>three_g</th>\n",
              "      <th>touch_screen</th>\n",
              "      <th>wifi</th>\n",
              "      <th>price_range</th>\n",
              "    </tr>\n",
              "  </thead>\n",
              "  <tbody>\n",
              "    <tr>\n",
              "      <th>0</th>\n",
              "      <td>842</td>\n",
              "      <td>NaN</td>\n",
              "      <td>2.2</td>\n",
              "      <td>0.0</td>\n",
              "      <td>1</td>\n",
              "      <td>0.0</td>\n",
              "      <td>7</td>\n",
              "      <td>0.6</td>\n",
              "      <td>188</td>\n",
              "      <td>2</td>\n",
              "      <td>...</td>\n",
              "      <td>20</td>\n",
              "      <td>756</td>\n",
              "      <td>2549</td>\n",
              "      <td>9.0</td>\n",
              "      <td>7</td>\n",
              "      <td>19</td>\n",
              "      <td>0.0</td>\n",
              "      <td>No</td>\n",
              "      <td>Yes</td>\n",
              "      <td>1</td>\n",
              "    </tr>\n",
              "    <tr>\n",
              "      <th>1</th>\n",
              "      <td>1021</td>\n",
              "      <td>1.0</td>\n",
              "      <td>0.5</td>\n",
              "      <td>1.0</td>\n",
              "      <td>0</td>\n",
              "      <td>1.0</td>\n",
              "      <td>53</td>\n",
              "      <td>0.7</td>\n",
              "      <td>136</td>\n",
              "      <td>3</td>\n",
              "      <td>...</td>\n",
              "      <td>905</td>\n",
              "      <td>1988</td>\n",
              "      <td>2631</td>\n",
              "      <td>17.0</td>\n",
              "      <td>3</td>\n",
              "      <td>7</td>\n",
              "      <td>1.0</td>\n",
              "      <td>Yes</td>\n",
              "      <td>No</td>\n",
              "      <td>2</td>\n",
              "    </tr>\n",
              "    <tr>\n",
              "      <th>2</th>\n",
              "      <td>563</td>\n",
              "      <td>1.0</td>\n",
              "      <td>0.5</td>\n",
              "      <td>1.0</td>\n",
              "      <td>2</td>\n",
              "      <td>1.0</td>\n",
              "      <td>41</td>\n",
              "      <td>0.9</td>\n",
              "      <td>145</td>\n",
              "      <td>5</td>\n",
              "      <td>...</td>\n",
              "      <td>1263</td>\n",
              "      <td>1716</td>\n",
              "      <td>2603</td>\n",
              "      <td>11.0</td>\n",
              "      <td>2</td>\n",
              "      <td>9</td>\n",
              "      <td>1.0</td>\n",
              "      <td>Yes</td>\n",
              "      <td>No</td>\n",
              "      <td>2</td>\n",
              "    </tr>\n",
              "    <tr>\n",
              "      <th>3</th>\n",
              "      <td>615</td>\n",
              "      <td>1.0</td>\n",
              "      <td>2.5</td>\n",
              "      <td>0.0</td>\n",
              "      <td>0</td>\n",
              "      <td>0.0</td>\n",
              "      <td>10</td>\n",
              "      <td>0.8</td>\n",
              "      <td>131</td>\n",
              "      <td>6</td>\n",
              "      <td>...</td>\n",
              "      <td>1216</td>\n",
              "      <td>1786</td>\n",
              "      <td>2769</td>\n",
              "      <td>16.0</td>\n",
              "      <td>8</td>\n",
              "      <td>11</td>\n",
              "      <td>1.0</td>\n",
              "      <td>No</td>\n",
              "      <td>No</td>\n",
              "      <td>2</td>\n",
              "    </tr>\n",
              "    <tr>\n",
              "      <th>4</th>\n",
              "      <td>1821</td>\n",
              "      <td>1.0</td>\n",
              "      <td>1.2</td>\n",
              "      <td>0.0</td>\n",
              "      <td>13</td>\n",
              "      <td>1.0</td>\n",
              "      <td>44</td>\n",
              "      <td>0.6</td>\n",
              "      <td>141</td>\n",
              "      <td>2</td>\n",
              "      <td>...</td>\n",
              "      <td>1208</td>\n",
              "      <td>1212</td>\n",
              "      <td>1411</td>\n",
              "      <td>8.0</td>\n",
              "      <td>2</td>\n",
              "      <td>15</td>\n",
              "      <td>1.0</td>\n",
              "      <td>Yes</td>\n",
              "      <td>No</td>\n",
              "      <td>1</td>\n",
              "    </tr>\n",
              "  </tbody>\n",
              "</table>\n",
              "<p>5 rows × 21 columns</p>\n",
              "</div>\n",
              "      <button class=\"colab-df-convert\" onclick=\"convertToInteractive('df-baba1992-7df2-468f-a8f2-5daa6c412d6d')\"\n",
              "              title=\"Convert this dataframe to an interactive table.\"\n",
              "              style=\"display:none;\">\n",
              "        \n",
              "  <svg xmlns=\"http://www.w3.org/2000/svg\" height=\"24px\"viewBox=\"0 0 24 24\"\n",
              "       width=\"24px\">\n",
              "    <path d=\"M0 0h24v24H0V0z\" fill=\"none\"/>\n",
              "    <path d=\"M18.56 5.44l.94 2.06.94-2.06 2.06-.94-2.06-.94-.94-2.06-.94 2.06-2.06.94zm-11 1L8.5 8.5l.94-2.06 2.06-.94-2.06-.94L8.5 2.5l-.94 2.06-2.06.94zm10 10l.94 2.06.94-2.06 2.06-.94-2.06-.94-.94-2.06-.94 2.06-2.06.94z\"/><path d=\"M17.41 7.96l-1.37-1.37c-.4-.4-.92-.59-1.43-.59-.52 0-1.04.2-1.43.59L10.3 9.45l-7.72 7.72c-.78.78-.78 2.05 0 2.83L4 21.41c.39.39.9.59 1.41.59.51 0 1.02-.2 1.41-.59l7.78-7.78 2.81-2.81c.8-.78.8-2.07 0-2.86zM5.41 20L4 18.59l7.72-7.72 1.47 1.35L5.41 20z\"/>\n",
              "  </svg>\n",
              "      </button>\n",
              "      \n",
              "  <style>\n",
              "    .colab-df-container {\n",
              "      display:flex;\n",
              "      flex-wrap:wrap;\n",
              "      gap: 12px;\n",
              "    }\n",
              "\n",
              "    .colab-df-convert {\n",
              "      background-color: #E8F0FE;\n",
              "      border: none;\n",
              "      border-radius: 50%;\n",
              "      cursor: pointer;\n",
              "      display: none;\n",
              "      fill: #1967D2;\n",
              "      height: 32px;\n",
              "      padding: 0 0 0 0;\n",
              "      width: 32px;\n",
              "    }\n",
              "\n",
              "    .colab-df-convert:hover {\n",
              "      background-color: #E2EBFA;\n",
              "      box-shadow: 0px 1px 2px rgba(60, 64, 67, 0.3), 0px 1px 3px 1px rgba(60, 64, 67, 0.15);\n",
              "      fill: #174EA6;\n",
              "    }\n",
              "\n",
              "    [theme=dark] .colab-df-convert {\n",
              "      background-color: #3B4455;\n",
              "      fill: #D2E3FC;\n",
              "    }\n",
              "\n",
              "    [theme=dark] .colab-df-convert:hover {\n",
              "      background-color: #434B5C;\n",
              "      box-shadow: 0px 1px 3px 1px rgba(0, 0, 0, 0.15);\n",
              "      filter: drop-shadow(0px 1px 2px rgba(0, 0, 0, 0.3));\n",
              "      fill: #FFFFFF;\n",
              "    }\n",
              "  </style>\n",
              "\n",
              "      <script>\n",
              "        const buttonEl =\n",
              "          document.querySelector('#df-baba1992-7df2-468f-a8f2-5daa6c412d6d button.colab-df-convert');\n",
              "        buttonEl.style.display =\n",
              "          google.colab.kernel.accessAllowed ? 'block' : 'none';\n",
              "\n",
              "        async function convertToInteractive(key) {\n",
              "          const element = document.querySelector('#df-baba1992-7df2-468f-a8f2-5daa6c412d6d');\n",
              "          const dataTable =\n",
              "            await google.colab.kernel.invokeFunction('convertToInteractive',\n",
              "                                                     [key], {});\n",
              "          if (!dataTable) return;\n",
              "\n",
              "          const docLinkHtml = 'Like what you see? Visit the ' +\n",
              "            '<a target=\"_blank\" href=https://colab.research.google.com/notebooks/data_table.ipynb>data table notebook</a>'\n",
              "            + ' to learn more about interactive tables.';\n",
              "          element.innerHTML = '';\n",
              "          dataTable['output_type'] = 'display_data';\n",
              "          await google.colab.output.renderOutput(dataTable, element);\n",
              "          const docLink = document.createElement('div');\n",
              "          docLink.innerHTML = docLinkHtml;\n",
              "          element.appendChild(docLink);\n",
              "        }\n",
              "      </script>\n",
              "    </div>\n",
              "  </div>\n",
              "  "
            ]
          },
          "metadata": {},
          "execution_count": 5
        }
      ]
    },
    {
      "cell_type": "code",
      "source": [
        "# Cấu trúc dataframe\n",
        "print('Các CỘT : ', df.columns.tolist())\n",
        "print(\"Số dòng m = \", df.shape[0])\n",
        "print(\"Số cột n = \", df.shape[1])"
      ],
      "metadata": {
        "colab": {
          "base_uri": "https://localhost:8080/"
        },
        "id": "3vOBssHoSDzY",
        "outputId": "8d9f919d-aee8-407e-dded-beedf17e9e43"
      },
      "execution_count": 6,
      "outputs": [
        {
          "output_type": "stream",
          "name": "stdout",
          "text": [
            "Các CỘT :  ['battery_power', 'blue', 'clock_speed', 'dual_sim', 'fc', 'four_g', 'int_memory', 'm_dep', 'mobile_wt', 'n_cores', 'pc', 'px_height', 'px_width', 'ram', 'sc_h', 'sc_w', 'talk_time', 'three_g', 'touch_screen', 'wifi', 'price_range']\n",
            "Số dòng m =  2099\n",
            "Số cột n =  21\n"
          ]
        }
      ]
    },
    {
      "cell_type": "code",
      "source": [
        "df.info()"
      ],
      "metadata": {
        "colab": {
          "base_uri": "https://localhost:8080/"
        },
        "id": "hF2Floy1HgUw",
        "outputId": "89db6a45-e567-4952-bef1-0224c274ca15"
      },
      "execution_count": 7,
      "outputs": [
        {
          "output_type": "stream",
          "name": "stdout",
          "text": [
            "<class 'pandas.core.frame.DataFrame'>\n",
            "RangeIndex: 2099 entries, 0 to 2098\n",
            "Data columns (total 21 columns):\n",
            " #   Column         Non-Null Count  Dtype  \n",
            "---  ------         --------------  -----  \n",
            " 0   battery_power  2099 non-null   int64  \n",
            " 1   blue           2083 non-null   float64\n",
            " 2   clock_speed    2099 non-null   float64\n",
            " 3   dual_sim       2062 non-null   float64\n",
            " 4   fc             2099 non-null   int64  \n",
            " 5   four_g         2049 non-null   float64\n",
            " 6   int_memory     2099 non-null   int64  \n",
            " 7   m_dep          2099 non-null   float64\n",
            " 8   mobile_wt      2099 non-null   int64  \n",
            " 9   n_cores        2099 non-null   int64  \n",
            " 10  pc             2046 non-null   float64\n",
            " 11  px_height      2099 non-null   int64  \n",
            " 12  px_width       2099 non-null   int64  \n",
            " 13  ram            2099 non-null   int64  \n",
            " 14  sc_h           2033 non-null   float64\n",
            " 15  sc_w           2099 non-null   int64  \n",
            " 16  talk_time      2099 non-null   int64  \n",
            " 17  three_g        1992 non-null   float64\n",
            " 18  touch_screen   2099 non-null   object \n",
            " 19  wifi           2099 non-null   object \n",
            " 20  price_range    2099 non-null   int64  \n",
            "dtypes: float64(8), int64(11), object(2)\n",
            "memory usage: 344.5+ KB\n"
          ]
        }
      ]
    },
    {
      "cell_type": "markdown",
      "source": [
        "# Xử lý dữ liệu Duplicates"
      ],
      "metadata": {
        "id": "ZJ8gbCeHHoYD"
      }
    },
    {
      "cell_type": "code",
      "source": [
        "duplicateRows = df[df.duplicated()]\n",
        "print('Số dòng dữ liệu duplicates: ', len(duplicateRows))"
      ],
      "metadata": {
        "colab": {
          "base_uri": "https://localhost:8080/"
        },
        "id": "2CoTla31HZDi",
        "outputId": "4aa7218a-93b7-4f37-f823-5c4551ad5579"
      },
      "execution_count": 8,
      "outputs": [
        {
          "output_type": "stream",
          "name": "stdout",
          "text": [
            "Số dòng dữ liệu duplicates:  99\n"
          ]
        }
      ]
    },
    {
      "cell_type": "code",
      "source": [
        "df = df.drop_duplicates()\n",
        "df.info()"
      ],
      "metadata": {
        "colab": {
          "base_uri": "https://localhost:8080/"
        },
        "id": "53Kaa7caIiUa",
        "outputId": "1747907d-dedd-4b19-9ffb-12581ad45537"
      },
      "execution_count": 9,
      "outputs": [
        {
          "output_type": "stream",
          "name": "stdout",
          "text": [
            "<class 'pandas.core.frame.DataFrame'>\n",
            "Int64Index: 2000 entries, 0 to 1999\n",
            "Data columns (total 21 columns):\n",
            " #   Column         Non-Null Count  Dtype  \n",
            "---  ------         --------------  -----  \n",
            " 0   battery_power  2000 non-null   int64  \n",
            " 1   blue           1984 non-null   float64\n",
            " 2   clock_speed    2000 non-null   float64\n",
            " 3   dual_sim       1963 non-null   float64\n",
            " 4   fc             2000 non-null   int64  \n",
            " 5   four_g         1950 non-null   float64\n",
            " 6   int_memory     2000 non-null   int64  \n",
            " 7   m_dep          2000 non-null   float64\n",
            " 8   mobile_wt      2000 non-null   int64  \n",
            " 9   n_cores        2000 non-null   int64  \n",
            " 10  pc             1947 non-null   float64\n",
            " 11  px_height      2000 non-null   int64  \n",
            " 12  px_width       2000 non-null   int64  \n",
            " 13  ram            2000 non-null   int64  \n",
            " 14  sc_h           1934 non-null   float64\n",
            " 15  sc_w           2000 non-null   int64  \n",
            " 16  talk_time      2000 non-null   int64  \n",
            " 17  three_g        1893 non-null   float64\n",
            " 18  touch_screen   2000 non-null   object \n",
            " 19  wifi           2000 non-null   object \n",
            " 20  price_range    2000 non-null   int64  \n",
            "dtypes: float64(8), int64(11), object(2)\n",
            "memory usage: 343.8+ KB\n"
          ]
        }
      ]
    },
    {
      "cell_type": "markdown",
      "source": [
        "# Xử lý dữ liệu Missing"
      ],
      "metadata": {
        "id": "43xqDujsKqI6"
      }
    },
    {
      "cell_type": "code",
      "source": [
        "#lấy ra những feature có missing value còn những feature k có thì sẽ lược bỏ đi để tránh gây nhiễu\n",
        "df1 = df.dtypes   # Kiểu dữ liệu\n",
        "a = pd.DataFrame(df1, columns = ['dtypes'])\n",
        "df2 = len(df) - df.count()  # Số giá trị bị thiếu\n",
        "b = pd.DataFrame(df2, columns = ['missing_val'])\n",
        "df3 = (len(df) - df.count())/len(df)*100 # Tỷ lệ phần trăm giá trị bị thiếu\n",
        "c = pd.DataFrame(df3, columns = ['per_missing'])\n",
        "\n",
        "rlt=pd.concat([a, b, c], axis = 1)\n",
        "\n",
        "# Sort the table by percentage of missing descending\n",
        "mis_val_table_ren_columns = rlt[rlt.iloc[:,1] != 0].sort_values('per_missing', ascending=False).round(1)\n",
        "\n",
        "print('Kết quả: \\n', mis_val_table_ren_columns)"
      ],
      "metadata": {
        "colab": {
          "base_uri": "https://localhost:8080/"
        },
        "id": "Q6UPW9kMKsxB",
        "outputId": "e98409e2-b040-446c-9835-196e5067cd2f"
      },
      "execution_count": 10,
      "outputs": [
        {
          "output_type": "stream",
          "name": "stdout",
          "text": [
            "Kết quả: \n",
            "            dtypes  missing_val  per_missing\n",
            "three_g   float64          107          5.4\n",
            "sc_h      float64           66          3.3\n",
            "pc        float64           53          2.6\n",
            "four_g    float64           50          2.5\n",
            "dual_sim  float64           37          1.8\n",
            "blue      float64           16          0.8\n"
          ]
        }
      ]
    },
    {
      "cell_type": "markdown",
      "source": [
        "**Xử lý dữ liệu Categorical**"
      ],
      "metadata": {
        "id": "GUIZYJiTLAxR"
      }
    },
    {
      "cell_type": "code",
      "source": [
        "# Điền dữ liệu Mode vào các Missing values\n",
        "df['three_g'] = df['three_g'].fillna((df['three_g'].mode())[0])\n",
        "df['four_g'] = df['four_g'].fillna((df['four_g'].mode())[0])\n",
        "df['dual_sim'] = df['dual_sim'].fillna((df['dual_sim'].mode())[0])\n",
        "df['blue'] = df['blue'].fillna((df['blue'].mode())[0])"
      ],
      "metadata": {
        "id": "eD4mpfdHLIZZ"
      },
      "execution_count": 11,
      "outputs": []
    },
    {
      "cell_type": "markdown",
      "source": [
        "**Xử lý dữ liệu Numeric**"
      ],
      "metadata": {
        "id": "MPDPOHtSNl31"
      }
    },
    {
      "cell_type": "code",
      "source": [
        "# Điền dữ liệu Median vào các Missing values\n",
        "df['pc'] = df['pc'].fillna(df['pc'].median())\n",
        "df['sc_h'] = df['sc_h'].fillna(df['sc_h'].median())"
      ],
      "metadata": {
        "id": "ym_jZnFbNoIi"
      },
      "execution_count": 12,
      "outputs": []
    },
    {
      "cell_type": "markdown",
      "source": [
        "**Kiểm tra lại sau khi xử lý missing value**"
      ],
      "metadata": {
        "id": "vYWc4JonPDiR"
      }
    },
    {
      "cell_type": "code",
      "source": [
        "df1 = df.dtypes   # Kiểu dữ liệu\n",
        "a = pd.DataFrame(df1, columns = ['dtypes'])\n",
        "df2 = len(df) - df.count()  # Số giá trị bị thiếu\n",
        "b = pd.DataFrame(df2, columns = ['missing_val'])\n",
        "df3 = (len(df) - df.count())/len(df)*100 # Tỷ lệ phần trăm giá trị bị thiếu\n",
        "c = pd.DataFrame(df3, columns = ['per_missing'])\n",
        "print('Kết quả: \\n', pd.concat([a, b, c], axis = 1))"
      ],
      "metadata": {
        "colab": {
          "base_uri": "https://localhost:8080/"
        },
        "id": "Z5Ey_9QON15Z",
        "outputId": "71f76773-952b-460f-917b-cb5e2be27315"
      },
      "execution_count": 13,
      "outputs": [
        {
          "output_type": "stream",
          "name": "stdout",
          "text": [
            "Kết quả: \n",
            "                 dtypes  missing_val  per_missing\n",
            "battery_power    int64            0          0.0\n",
            "blue           float64            0          0.0\n",
            "clock_speed    float64            0          0.0\n",
            "dual_sim       float64            0          0.0\n",
            "fc               int64            0          0.0\n",
            "four_g         float64            0          0.0\n",
            "int_memory       int64            0          0.0\n",
            "m_dep          float64            0          0.0\n",
            "mobile_wt        int64            0          0.0\n",
            "n_cores          int64            0          0.0\n",
            "pc             float64            0          0.0\n",
            "px_height        int64            0          0.0\n",
            "px_width         int64            0          0.0\n",
            "ram              int64            0          0.0\n",
            "sc_h           float64            0          0.0\n",
            "sc_w             int64            0          0.0\n",
            "talk_time        int64            0          0.0\n",
            "three_g        float64            0          0.0\n",
            "touch_screen    object            0          0.0\n",
            "wifi            object            0          0.0\n",
            "price_range      int64            0          0.0\n"
          ]
        }
      ]
    },
    {
      "cell_type": "code",
      "source": [
        "len_df=df.shape[0]\n",
        "print(\"Số dòng m mới = \",len_df )\n",
        "print(\"Số cột n mới = \", df.shape[1])"
      ],
      "metadata": {
        "colab": {
          "base_uri": "https://localhost:8080/"
        },
        "id": "D01RdYJgPH54",
        "outputId": "ab45d9eb-3254-440d-8e09-a8183e62daee"
      },
      "execution_count": 14,
      "outputs": [
        {
          "output_type": "stream",
          "name": "stdout",
          "text": [
            "Số dòng m mới =  2000\n",
            "Số cột n mới =  21\n"
          ]
        }
      ]
    },
    {
      "cell_type": "markdown",
      "source": [
        "# Xử lý dữ liệu Outliers (fc và px_height)"
      ],
      "metadata": {
        "id": "jZUITcOhPqIQ"
      }
    },
    {
      "cell_type": "markdown",
      "source": [
        "**battery_power (Không có outliers)**"
      ],
      "metadata": {
        "id": "3Lvs8sK_P7lh"
      }
    },
    {
      "cell_type": "code",
      "source": [
        "plt.boxplot(df['battery_power'], vert=False)\n",
        "plt.title('Outliers của battery_power', fontsize = 15, color = 'b')\n",
        "plt.show()"
      ],
      "metadata": {
        "colab": {
          "base_uri": "https://localhost:8080/",
          "height": 456
        },
        "id": "IV5GZCKYPsww",
        "outputId": "bff5346f-c89f-4d3f-95c1-e4f37327cbd0"
      },
      "execution_count": 15,
      "outputs": [
        {
          "output_type": "display_data",
          "data": {
            "text/plain": [
              "<Figure size 640x480 with 1 Axes>"
            ],
            "image/png": "[encoded data removed]"
          },
          "metadata": {}
        }
      ]
    },
    {
      "cell_type": "code",
      "source": [
        "Q1 = np.percentile(df['battery_power'] , 25)\n",
        "Q3 = np.percentile(df['battery_power'] , 75)\n",
        "IQR = Q3 - Q1\n",
        "upper = Q3+1.5*IQR\n",
        "lower = Q1-1.5*IQR\n",
        "outliers_upper = df['battery_power'][(df['battery_power'] > upper)] \n",
        "outliers_lower = df['battery_power'][(df['battery_power'] < lower)] \n",
        "print('Số lượng outliers cận trên:',len(outliers_upper))\n",
        "print('Số lượng outliers cận dưới:',len(outliers_lower))"
      ],
      "metadata": {
        "colab": {
          "base_uri": "https://localhost:8080/"
        },
        "id": "_kv07O-jQGUg",
        "outputId": "cd3317f1-3541-49eb-d2b5-b5f95b3bed8d"
      },
      "execution_count": 16,
      "outputs": [
        {
          "output_type": "stream",
          "name": "stdout",
          "text": [
            "Số lượng outliers cận trên: 0\n",
            "Số lượng outliers cận dưới: 0\n"
          ]
        }
      ]
    },
    {
      "cell_type": "markdown",
      "source": [
        "**clock_speed(Không có outliers)**"
      ],
      "metadata": {
        "id": "7noTulf2QYEA"
      }
    },
    {
      "cell_type": "code",
      "source": [
        "plt.boxplot(df['clock_speed'], vert=False)\n",
        "plt.title('Outliers của clock_speed', fontsize = 15, color = 'b')\n",
        "plt.show()"
      ],
      "metadata": {
        "colab": {
          "base_uri": "https://localhost:8080/",
          "height": 456
        },
        "id": "qV5VwpDjQb0o",
        "outputId": "773f5cd7-53bb-4e28-a53a-1d6ab92aaa09"
      },
      "execution_count": 17,
      "outputs": [
        {
          "output_type": "display_data",
          "data": {
            "text/plain": [
              "<Figure size 640x480 with 1 Axes>"
            ],
            "image/png": "[encoded data removed]"
          },
          "metadata": {}
        }
      ]
    },
    {
      "cell_type": "code",
      "source": [
        "Q1 = np.percentile(df['clock_speed'] , 25)\n",
        "Q3 = np.percentile(df['clock_speed'] , 75)\n",
        "IQR = Q3 - Q1\n",
        "upper = Q3+1.5*IQR\n",
        "lower = Q1-1.5*IQR\n",
        "outliers_upper = df['clock_speed'][(df['clock_speed'] > upper)] \n",
        "outliers_lower = df['clock_speed'][(df['clock_speed'] < lower)] \n",
        "print('Số lượng outliers cận trên:',len(outliers_upper))\n",
        "print('Số lượng outliers cận dưới:',len(outliers_lower))"
      ],
      "metadata": {
        "colab": {
          "base_uri": "https://localhost:8080/"
        },
        "id": "OIen8XESQfH5",
        "outputId": "f71d44dd-85f1-4936-9896-d8e1536b4754"
      },
      "execution_count": 18,
      "outputs": [
        {
          "output_type": "stream",
          "name": "stdout",
          "text": [
            "Số lượng outliers cận trên: 0\n",
            "Số lượng outliers cận dưới: 0\n"
          ]
        }
      ]
    },
    {
      "cell_type": "markdown",
      "source": [
        "**fc(Có Outliers)**"
      ],
      "metadata": {
        "id": "cuy4evkcQmjS"
      }
    },
    {
      "cell_type": "code",
      "source": [
        "plt.boxplot(df['fc'], vert=False)\n",
        "plt.title('Outliers của fc', fontsize = 15, color = 'b')\n",
        "plt.show()"
      ],
      "metadata": {
        "colab": {
          "base_uri": "https://localhost:8080/",
          "height": 454
        },
        "id": "N40_xd8cQqXY",
        "outputId": "23e0b532-2bed-4b34-90f7-004d0b0a9c26"
      },
      "execution_count": 19,
      "outputs": [
        {
          "output_type": "display_data",
          "data": {
            "text/plain": [
              "<Figure size 640x480 with 1 Axes>"
            ],
            "image/png": "[encoded data removed]"
          },
          "metadata": {}
        }
      ]
    },
    {
      "cell_type": "code",
      "source": [
        "Q1 = np.percentile(df['fc'] , 25)\n",
        "Q3 = np.percentile(df['fc'] , 75)\n",
        "IQR = Q3 - Q1\n",
        "upper = Q3+1.5*IQR\n",
        "lower = Q1-1.5*IQR\n",
        "outliers_upper = df['fc'][(df['fc'] > upper)] \n",
        "outliers_lower = df['fc'][(df['fc'] < lower)] \n",
        "print('Số lượng outliers cận trên:',len(outliers_upper))\n",
        "print('Số lượng outliers cận dưới:',len(outliers_lower))"
      ],
      "metadata": {
        "colab": {
          "base_uri": "https://localhost:8080/"
        },
        "id": "Zg-m3b2IQr5t",
        "outputId": "b07f427a-7f57-4237-cdc1-4e6bb6bdf910"
      },
      "execution_count": 20,
      "outputs": [
        {
          "output_type": "stream",
          "name": "stdout",
          "text": [
            "Số lượng outliers cận trên: 18\n",
            "Số lượng outliers cận dưới: 0\n"
          ]
        }
      ]
    },
    {
      "cell_type": "code",
      "source": [
        "df = df[(df['fc'] >= lower) & (df['fc'] <= upper)]"
      ],
      "metadata": {
        "id": "mcPgkXHqQ0-Q"
      },
      "execution_count": 21,
      "outputs": []
    },
    {
      "cell_type": "code",
      "source": [
        "plt.boxplot(df['fc'], vert=False)\n",
        "plt.title('Outliers của fc sau khi xử lý', fontsize = 15, color = 'b')\n",
        "plt.show()"
      ],
      "metadata": {
        "colab": {
          "base_uri": "https://localhost:8080/",
          "height": 456
        },
        "id": "rB3rmaM1Q6Ng",
        "outputId": "be11eb34-2504-494c-9449-de5d674c5175"
      },
      "execution_count": 22,
      "outputs": [
        {
          "output_type": "display_data",
          "data": {
            "text/plain": [
              "<Figure size 640x480 with 1 Axes>"
            ],
            "image/png": "[encoded data removed]"
          },
          "metadata": {}
        }
      ]
    },
    {
      "cell_type": "markdown",
      "source": [
        "**int_memory(Không có outliers)**"
      ],
      "metadata": {
        "id": "V1VM0TjORAYw"
      }
    },
    {
      "cell_type": "code",
      "source": [
        "plt.boxplot(df['int_memory'], vert=False)\n",
        "plt.title('Outliers của int_memory', fontsize = 15, color = 'b')\n",
        "plt.show()"
      ],
      "metadata": {
        "colab": {
          "base_uri": "https://localhost:8080/",
          "height": 456
        },
        "id": "vc52FQOPRG8A",
        "outputId": "05938f8c-5ba4-48f0-e27c-40744fe98370"
      },
      "execution_count": 23,
      "outputs": [
        {
          "output_type": "display_data",
          "data": {
            "text/plain": [
              "<Figure size 640x480 with 1 Axes>"
            ],
            "image/png": "[encoded data removed]"
          },
          "metadata": {}
        }
      ]
    },
    {
      "cell_type": "code",
      "source": [
        "Q1 = np.percentile(df['int_memory'] , 25)\n",
        "Q3 = np.percentile(df['int_memory'] , 75)\n",
        "IQR = Q3 - Q1\n",
        "upper = Q3+1.5*IQR\n",
        "lower = Q1-1.5*IQR\n",
        "outliers_upper = df['int_memory'][(df['int_memory'] > upper)] \n",
        "outliers_lower = df['int_memory'][(df['int_memory'] < lower)] \n",
        "print('Số lượng outliers cận trên:',len(outliers_upper))\n",
        "print('Số lượng outliers cận dưới:',len(outliers_lower))"
      ],
      "metadata": {
        "colab": {
          "base_uri": "https://localhost:8080/"
        },
        "id": "Lo92YR0ZRJNQ",
        "outputId": "de4cc17d-012c-4be8-949a-f264c5d37d0d"
      },
      "execution_count": 24,
      "outputs": [
        {
          "output_type": "stream",
          "name": "stdout",
          "text": [
            "Số lượng outliers cận trên: 0\n",
            "Số lượng outliers cận dưới: 0\n"
          ]
        }
      ]
    },
    {
      "cell_type": "markdown",
      "source": [
        "**m_dep(Không có outliers)**"
      ],
      "metadata": {
        "id": "M4W4p_FYRSOg"
      }
    },
    {
      "cell_type": "code",
      "source": [
        "plt.boxplot(df['m_dep'], vert=False)\n",
        "plt.title('Outliers của m_dep', fontsize = 15, color = 'b')\n",
        "plt.show()"
      ],
      "metadata": {
        "colab": {
          "base_uri": "https://localhost:8080/",
          "height": 456
        },
        "id": "rkOiWPfqRWTC",
        "outputId": "5b0bfdfa-93f7-456c-c451-6631961ade0e"
      },
      "execution_count": 25,
      "outputs": [
        {
          "output_type": "display_data",
          "data": {
            "text/plain": [
              "<Figure size 640x480 with 1 Axes>"
            ],
            "image/png": "[encoded data removed]"
          },
          "metadata": {}
        }
      ]
    },
    {
      "cell_type": "code",
      "source": [
        "Q1 = np.percentile(df['m_dep'] , 25)\n",
        "Q3 = np.percentile(df['m_dep'] , 75)\n",
        "IQR = Q3 - Q1\n",
        "upper = Q3+1.5*IQR\n",
        "lower = Q1-1.5*IQR\n",
        "outliers_upper = df['m_dep'][(df['m_dep'] > upper)] \n",
        "outliers_lower = df['m_dep'][(df['m_dep'] < lower)] \n",
        "print('Số lượng outliers cận trên:',len(outliers_upper))\n",
        "print('Số lượng outliers cận dưới:',len(outliers_lower))"
      ],
      "metadata": {
        "colab": {
          "base_uri": "https://localhost:8080/"
        },
        "id": "wtUYYYUIRYtN",
        "outputId": "5f346779-3b9b-4fc2-df0d-6f21ad554092"
      },
      "execution_count": 26,
      "outputs": [
        {
          "output_type": "stream",
          "name": "stdout",
          "text": [
            "Số lượng outliers cận trên: 0\n",
            "Số lượng outliers cận dưới: 0\n"
          ]
        }
      ]
    },
    {
      "cell_type": "markdown",
      "source": [
        "**mobile_wt(Không có outlers)**"
      ],
      "metadata": {
        "id": "uwkfStVIRc2Z"
      }
    },
    {
      "cell_type": "code",
      "source": [
        "plt.boxplot(df['mobile_wt'], vert=False)\n",
        "plt.title('Outliers của mobile_wt', fontsize = 15, color = 'b')\n",
        "plt.show()"
      ],
      "metadata": {
        "colab": {
          "base_uri": "https://localhost:8080/",
          "height": 456
        },
        "id": "wh3p4MzzRh1o",
        "outputId": "9b603588-ef94-4997-9a48-c3472329b746"
      },
      "execution_count": 27,
      "outputs": [
        {
          "output_type": "display_data",
          "data": {
            "text/plain": [
              "<Figure size 640x480 with 1 Axes>"
            ],
            "image/png": "[encoded data removed]"
          },
          "metadata": {}
        }
      ]
    },
    {
      "cell_type": "code",
      "source": [
        "Q1 = np.percentile(df['mobile_wt'] , 25)\n",
        "Q3 = np.percentile(df['mobile_wt'] , 75)\n",
        "IQR = Q3 - Q1\n",
        "upper = Q3+1.5*IQR\n",
        "lower = Q1-1.5*IQR\n",
        "outliers_upper = df['mobile_wt'][(df['mobile_wt'] > upper)] \n",
        "outliers_lower = df['mobile_wt'][(df['mobile_wt'] < lower)] \n",
        "print('Số lượng outliers cận trên:',len(outliers_upper))\n",
        "print('Số lượng outliers cận dưới:',len(outliers_lower))"
      ],
      "metadata": {
        "colab": {
          "base_uri": "https://localhost:8080/"
        },
        "id": "mdSAHH7HRjRx",
        "outputId": "06d13a4f-9d15-47cf-a84c-16fdd18ff2c4"
      },
      "execution_count": 28,
      "outputs": [
        {
          "output_type": "stream",
          "name": "stdout",
          "text": [
            "Số lượng outliers cận trên: 0\n",
            "Số lượng outliers cận dưới: 0\n"
          ]
        }
      ]
    },
    {
      "cell_type": "markdown",
      "source": [
        "**n_cores(Không có outliers)**"
      ],
      "metadata": {
        "id": "0I7Zq83nRnwZ"
      }
    },
    {
      "cell_type": "code",
      "source": [
        "plt.boxplot(df['n_cores'], vert=False)\n",
        "plt.title('Outliers của n_cores', fontsize = 15, color = 'b')\n",
        "plt.show()"
      ],
      "metadata": {
        "colab": {
          "base_uri": "https://localhost:8080/",
          "height": 456
        },
        "id": "GxlXgpZkRsKY",
        "outputId": "85196526-fd7d-4610-d5a4-ffd01a99a21c"
      },
      "execution_count": 29,
      "outputs": [
        {
          "output_type": "display_data",
          "data": {
            "text/plain": [
              "<Figure size 640x480 with 1 Axes>"
            ],
            "image/png": "[encoded data removed]"
          },
          "metadata": {}
        }
      ]
    },
    {
      "cell_type": "code",
      "source": [
        "Q1 = np.percentile(df['n_cores'] , 25)\n",
        "Q3 = np.percentile(df['n_cores'] , 75)\n",
        "IQR = Q3 - Q1\n",
        "upper = Q3+1.5*IQR\n",
        "lower = Q1-1.5*IQR\n",
        "outliers_upper = df['n_cores'][(df['n_cores'] > upper)] \n",
        "outliers_lower = df['n_cores'][(df['n_cores'] < lower)] \n",
        "print('Số lượng outliers cận trên:',len(outliers_upper))\n",
        "print('Số lượng outliers cận dưới:',len(outliers_lower))"
      ],
      "metadata": {
        "colab": {
          "base_uri": "https://localhost:8080/"
        },
        "id": "hODR9QYKRtR4",
        "outputId": "358ec9ed-cbce-4d6f-85b2-75a0dad7f0ff"
      },
      "execution_count": 30,
      "outputs": [
        {
          "output_type": "stream",
          "name": "stdout",
          "text": [
            "Số lượng outliers cận trên: 0\n",
            "Số lượng outliers cận dưới: 0\n"
          ]
        }
      ]
    },
    {
      "cell_type": "markdown",
      "source": [
        "**pc(Không có outliers)**"
      ],
      "metadata": {
        "id": "4e8EgLRQRyuY"
      }
    },
    {
      "cell_type": "code",
      "source": [
        "plt.boxplot(df['pc'], vert=False)\n",
        "plt.title('Outliers của pc', fontsize = 15, color = 'b')\n",
        "plt.show()"
      ],
      "metadata": {
        "colab": {
          "base_uri": "https://localhost:8080/",
          "height": 456
        },
        "id": "r-6SiV-nR4Z4",
        "outputId": "ed262b2f-53b6-48b6-d11a-df6f88608a69"
      },
      "execution_count": 31,
      "outputs": [
        {
          "output_type": "display_data",
          "data": {
            "text/plain": [
              "<Figure size 640x480 with 1 Axes>"
            ],
            "image/png": "[encoded data removed]"
          },
          "metadata": {}
        }
      ]
    },
    {
      "cell_type": "code",
      "source": [
        "Q1 = np.percentile(df['pc'] , 25)\n",
        "Q3 = np.percentile(df['pc'] , 75)\n",
        "IQR = Q3 - Q1\n",
        "upper = Q3+1.5*IQR\n",
        "lower = Q1-1.5*IQR\n",
        "outliers_upper = df['pc'][(df['pc'] > upper)] \n",
        "outliers_lower = df['pc'][(df['pc'] < lower)] \n",
        "print('Số lượng outliers cận trên:',len(outliers_upper))\n",
        "print('Số lượng outliers cận dưới:',len(outliers_lower))"
      ],
      "metadata": {
        "colab": {
          "base_uri": "https://localhost:8080/"
        },
        "id": "kg2Vpq86R7Yp",
        "outputId": "885a571a-000f-4ed2-ef42-fc1d6627c7ae"
      },
      "execution_count": 32,
      "outputs": [
        {
          "output_type": "stream",
          "name": "stdout",
          "text": [
            "Số lượng outliers cận trên: 0\n",
            "Số lượng outliers cận dưới: 0\n"
          ]
        }
      ]
    },
    {
      "cell_type": "markdown",
      "source": [
        "**px_height(Có outliers)**"
      ],
      "metadata": {
        "id": "my1KsiUqSDOT"
      }
    },
    {
      "cell_type": "code",
      "source": [
        "plt.boxplot(df['px_height'], vert=False)\n",
        "plt.title('Outliers của px_height', fontsize = 15, color = 'b')\n",
        "plt.show()"
      ],
      "metadata": {
        "colab": {
          "base_uri": "https://localhost:8080/",
          "height": 456
        },
        "id": "UTArN2dFSGUY",
        "outputId": "ee8940ff-3ea1-44de-b798-90a6fc64a920"
      },
      "execution_count": 33,
      "outputs": [
        {
          "output_type": "display_data",
          "data": {
            "text/plain": [
              "<Figure size 640x480 with 1 Axes>"
            ],
            "image/png": "[encoded data removed]"
          },
          "metadata": {}
        }
      ]
    },
    {
      "cell_type": "code",
      "source": [
        "Q1 = np.percentile(df['px_height'] , 25)\n",
        "Q3 = np.percentile(df['px_height'] , 75)\n",
        "IQR = Q3 - Q1\n",
        "upper = Q3+1.5*IQR\n",
        "lower = Q1-1.5*IQR\n",
        "outliers_upper = df['px_height'][(df['px_height'] > upper)] \n",
        "outliers_lower = df['px_height'][(df['px_height'] < lower)] \n",
        "print('Số lượng outliers cận trên:',len(outliers_upper))\n",
        "print('Số lượng outliers cận dưới:',len(outliers_lower))"
      ],
      "metadata": {
        "colab": {
          "base_uri": "https://localhost:8080/"
        },
        "id": "0vB-p_6_SKWJ",
        "outputId": "8b4f87eb-c8f6-4430-ed9b-f67f695babbc"
      },
      "execution_count": 34,
      "outputs": [
        {
          "output_type": "stream",
          "name": "stdout",
          "text": [
            "Số lượng outliers cận trên: 2\n",
            "Số lượng outliers cận dưới: 0\n"
          ]
        }
      ]
    },
    {
      "cell_type": "code",
      "source": [
        "df = df[(df['px_height'] >= lower) & (df['px_height'] <= upper)]"
      ],
      "metadata": {
        "id": "P9PfIabuSTr5"
      },
      "execution_count": 35,
      "outputs": []
    },
    {
      "cell_type": "code",
      "source": [
        "plt.boxplot(df['px_height'], vert=False)\n",
        "plt.title('Outliers của px_height sau khi xử lý', fontsize = 15, color = 'b')\n",
        "plt.show()"
      ],
      "metadata": {
        "colab": {
          "base_uri": "https://localhost:8080/",
          "height": 456
        },
        "id": "GoXRtuFeSUt_",
        "outputId": "5997a996-b26c-4504-b38c-ea553df05e5e"
      },
      "execution_count": 36,
      "outputs": [
        {
          "output_type": "display_data",
          "data": {
            "text/plain": [
              "<Figure size 640x480 with 1 Axes>"
            ],
            "image/png": "[encoded data removed]"
          },
          "metadata": {}
        }
      ]
    },
    {
      "cell_type": "markdown",
      "source": [
        "**px_width(Không có outliers)**"
      ],
      "metadata": {
        "id": "XGAh_q-jSdMZ"
      }
    },
    {
      "cell_type": "code",
      "source": [
        "plt.boxplot(df['px_width'], vert=False)\n",
        "plt.title('Outliers của px_width', fontsize = 15, color = 'b')\n",
        "plt.show()"
      ],
      "metadata": {
        "colab": {
          "base_uri": "https://localhost:8080/",
          "height": 456
        },
        "id": "iDw-fiW0SU1K",
        "outputId": "bf83244c-2cd5-4d2e-da03-3ddb5a6cb7fd"
      },
      "execution_count": 37,
      "outputs": [
        {
          "output_type": "display_data",
          "data": {
            "text/plain": [
              "<Figure size 640x480 with 1 Axes>"
            ],
            "image/png": "[encoded data removed]"
          },
          "metadata": {}
        }
      ]
    },
    {
      "cell_type": "code",
      "source": [
        "Q1 = np.percentile(df['px_width'] , 25)\n",
        "Q3 = np.percentile(df['px_width'] , 75)\n",
        "IQR = Q3 - Q1\n",
        "upper = Q3+1.5*IQR\n",
        "lower = Q1-1.5*IQR\n",
        "outliers_upper = df['px_width'][(df['px_width'] > upper)] \n",
        "outliers_lower = df['px_width'][(df['px_width'] < lower)] \n",
        "print('Số lượng outliers cận trên:',len(outliers_upper))\n",
        "print('Số lượng outliers cận dưới:',len(outliers_lower))"
      ],
      "metadata": {
        "colab": {
          "base_uri": "https://localhost:8080/"
        },
        "id": "ScbxccRgSjO5",
        "outputId": "ff3bc28c-d0d3-42f9-dd87-cdbe4eee0ace"
      },
      "execution_count": 38,
      "outputs": [
        {
          "output_type": "stream",
          "name": "stdout",
          "text": [
            "Số lượng outliers cận trên: 0\n",
            "Số lượng outliers cận dưới: 0\n"
          ]
        }
      ]
    },
    {
      "cell_type": "markdown",
      "source": [
        "**ram(Không có outliers)**"
      ],
      "metadata": {
        "id": "XPMQeH0fSpMZ"
      }
    },
    {
      "cell_type": "code",
      "source": [
        "plt.boxplot(df['ram'], vert=False)\n",
        "plt.title('Outliers của ram', fontsize = 15, color = 'b')\n",
        "plt.show()"
      ],
      "metadata": {
        "colab": {
          "base_uri": "https://localhost:8080/",
          "height": 454
        },
        "id": "0BKcADASSse5",
        "outputId": "4c59b9dc-2a12-4a4a-a8cf-5b0460653056"
      },
      "execution_count": 39,
      "outputs": [
        {
          "output_type": "display_data",
          "data": {
            "text/plain": [
              "<Figure size 640x480 with 1 Axes>"
            ],
            "image/png": "[encoded data removed]"
          },
          "metadata": {}
        }
      ]
    },
    {
      "cell_type": "code",
      "source": [
        "Q1 = np.percentile(df['ram'] , 25)\n",
        "Q3 = np.percentile(df['ram'] , 75)\n",
        "IQR = Q3 - Q1\n",
        "upper = Q3+1.5*IQR\n",
        "lower = Q1-1.5*IQR\n",
        "outliers_upper = df['ram'][(df['ram'] > upper)] \n",
        "outliers_lower = df['ram'][(df['ram'] < lower)] \n",
        "print('Số lượng outliers cận trên:',len(outliers_upper))\n",
        "print('Số lượng outliers cận dưới:',len(outliers_lower))"
      ],
      "metadata": {
        "colab": {
          "base_uri": "https://localhost:8080/"
        },
        "id": "NCDFf22USvLB",
        "outputId": "0766d2d7-5720-403c-c7be-2289501b7eae"
      },
      "execution_count": 40,
      "outputs": [
        {
          "output_type": "stream",
          "name": "stdout",
          "text": [
            "Số lượng outliers cận trên: 0\n",
            "Số lượng outliers cận dưới: 0\n"
          ]
        }
      ]
    },
    {
      "cell_type": "markdown",
      "source": [
        "**sc_h(Không có outliers)**"
      ],
      "metadata": {
        "id": "nj2C5jQPS28h"
      }
    },
    {
      "cell_type": "code",
      "source": [
        "plt.boxplot(df['sc_h'], vert=False)\n",
        "plt.title('Outliers của sc_h', fontsize = 15, color = 'b')\n",
        "plt.show()"
      ],
      "metadata": {
        "colab": {
          "base_uri": "https://localhost:8080/",
          "height": 456
        },
        "id": "CrS_-heWS_TR",
        "outputId": "1f27664d-fd9c-43c1-ba43-aa0489248589"
      },
      "execution_count": 41,
      "outputs": [
        {
          "output_type": "display_data",
          "data": {
            "text/plain": [
              "<Figure size 640x480 with 1 Axes>"
            ],
            "image/png": "[encoded data removed]"
          },
          "metadata": {}
        }
      ]
    },
    {
      "cell_type": "code",
      "source": [
        "Q1 = np.percentile(df['sc_h'] , 25)\n",
        "Q3 = np.percentile(df['sc_h'] , 75)\n",
        "IQR = Q3 - Q1\n",
        "upper = Q3+1.5*IQR\n",
        "lower = Q1-1.5*IQR\n",
        "outliers_upper = df['sc_h'][(df['sc_h'] > upper)] \n",
        "outliers_lower = df['sc_h'][(df['sc_h'] < lower)] \n",
        "print('Số lượng outliers cận trên:',len(outliers_upper))\n",
        "print('Số lượng outliers cận dưới:',len(outliers_lower))"
      ],
      "metadata": {
        "colab": {
          "base_uri": "https://localhost:8080/"
        },
        "id": "wcDb2EbiTAxQ",
        "outputId": "bf3a984f-dda0-45b1-aa9a-a7f14f61e70f"
      },
      "execution_count": 42,
      "outputs": [
        {
          "output_type": "stream",
          "name": "stdout",
          "text": [
            "Số lượng outliers cận trên: 0\n",
            "Số lượng outliers cận dưới: 0\n"
          ]
        }
      ]
    },
    {
      "cell_type": "markdown",
      "source": [
        "**sc_w(Không có outliers)**"
      ],
      "metadata": {
        "id": "gqbQcT4UTGbx"
      }
    },
    {
      "cell_type": "code",
      "source": [
        "plt.boxplot(df['sc_w'], vert=False)\n",
        "plt.title('Outliers của sc_w', fontsize = 15, color = 'b')\n",
        "plt.show()"
      ],
      "metadata": {
        "colab": {
          "base_uri": "https://localhost:8080/",
          "height": 456
        },
        "id": "KXdZ9U9XTKoh",
        "outputId": "96d52431-735c-4e97-b94d-e5ce34ecc1a4"
      },
      "execution_count": 43,
      "outputs": [
        {
          "output_type": "display_data",
          "data": {
            "text/plain": [
              "<Figure size 640x480 with 1 Axes>"
            ],
            "image/png": "[encoded data removed]"
          },
          "metadata": {}
        }
      ]
    },
    {
      "cell_type": "code",
      "source": [
        "Q1 = np.percentile(df['sc_w'] , 25)\n",
        "Q3 = np.percentile(df['sc_w'] , 75)\n",
        "IQR = Q3 - Q1\n",
        "upper = Q3+1.5*IQR\n",
        "lower = Q1-1.5*IQR\n",
        "outliers_upper = df['sc_w'][(df['sc_w'] > upper)] \n",
        "outliers_lower = df['sc_w'][(df['sc_w'] < lower)] \n",
        "print('Số lượng outliers cận trên:',len(outliers_upper))\n",
        "print('Số lượng outliers cận dưới:',len(outliers_lower))"
      ],
      "metadata": {
        "colab": {
          "base_uri": "https://localhost:8080/"
        },
        "id": "R0skB2snTLrI",
        "outputId": "9a9d8765-0764-4cc3-ccc7-73d7c4ff0572"
      },
      "execution_count": 44,
      "outputs": [
        {
          "output_type": "stream",
          "name": "stdout",
          "text": [
            "Số lượng outliers cận trên: 0\n",
            "Số lượng outliers cận dưới: 0\n"
          ]
        }
      ]
    },
    {
      "cell_type": "markdown",
      "source": [
        "**talk_time(Không có outliers)**"
      ],
      "metadata": {
        "id": "Ikszm7MwTSNa"
      }
    },
    {
      "cell_type": "code",
      "source": [
        "plt.boxplot(df['talk_time'], vert=False)\n",
        "plt.title('Outliers của talk_time', fontsize = 15, color = 'b')\n",
        "plt.show()"
      ],
      "metadata": {
        "colab": {
          "base_uri": "https://localhost:8080/",
          "height": 456
        },
        "id": "dTFPix_uTVY6",
        "outputId": "eddf48ea-500d-4e35-e710-cec386692e69"
      },
      "execution_count": 45,
      "outputs": [
        {
          "output_type": "display_data",
          "data": {
            "text/plain": [
              "<Figure size 640x480 with 1 Axes>"
            ],
            "image/png": "[encoded data removed]"
          },
          "metadata": {}
        }
      ]
    },
    {
      "cell_type": "code",
      "source": [
        "Q1 = np.percentile(df['talk_time'] , 25)\n",
        "Q3 = np.percentile(df['talk_time'] , 75)\n",
        "IQR = Q3 - Q1\n",
        "upper = Q3+1.5*IQR\n",
        "lower = Q1-1.5*IQR\n",
        "outliers_upper = df['talk_time'][(df['talk_time'] > upper)] \n",
        "outliers_lower = df['talk_time'][(df['talk_time'] < lower)] \n",
        "print('Số lượng outliers cận trên:',len(outliers_upper))\n",
        "print('Số lượng outliers cận dưới:',len(outliers_lower))"
      ],
      "metadata": {
        "colab": {
          "base_uri": "https://localhost:8080/"
        },
        "id": "3haqeVB2TWZq",
        "outputId": "b2f19a4c-a8a7-444e-be2d-47f5223ead8f"
      },
      "execution_count": 46,
      "outputs": [
        {
          "output_type": "stream",
          "name": "stdout",
          "text": [
            "Số lượng outliers cận trên: 0\n",
            "Số lượng outliers cận dưới: 0\n"
          ]
        }
      ]
    },
    {
      "cell_type": "markdown",
      "source": [
        "# Kiểm tra sau khi loại bỏ outliers"
      ],
      "metadata": {
        "id": "pbpYUj2AbY6e"
      }
    },
    {
      "cell_type": "code",
      "source": [
        "print(\"Số dòng m cũ  = \", len_df)\n",
        "print(\"Số dòng m mới = \", df.shape[0])\n",
        "print(\"Chênh lệch    =\",len_df-df.shape[0])\n",
        "print(\"Số cột n mới  = \", df.shape[1])"
      ],
      "metadata": {
        "colab": {
          "base_uri": "https://localhost:8080/"
        },
        "id": "NbVmEd3QbbEn",
        "outputId": "0805bc7b-e988-4674-a67a-544b06a72232"
      },
      "execution_count": 47,
      "outputs": [
        {
          "output_type": "stream",
          "name": "stdout",
          "text": [
            "Số dòng m cũ  =  2000\n",
            "Số dòng m mới =  1980\n",
            "Chênh lệch    = 20\n",
            "Số cột n mới  =  21\n"
          ]
        }
      ]
    },
    {
      "cell_type": "markdown",
      "source": [
        "# Biểu đồ"
      ],
      "metadata": {
        "id": "nWJx7YWub7HJ"
      }
    },
    {
      "cell_type": "markdown",
      "source": [
        "**Heatmap**"
      ],
      "metadata": {
        "id": "z7qmrwYycqOz"
      }
    },
    {
      "cell_type": "code",
      "source": [
        "# Xét tương quan giữa các biến có kiểu dữ liệu số với target\n",
        "dataset_corr = df.corr()\n",
        "\n",
        "# In ma trận tam giác dưới\n",
        "ones_corr = np.ones_like(dataset_corr, dtype = bool)\n",
        "\n",
        "print('Kích thước của datacorr: ',ones_corr.shape)\n",
        "print('Kích thước của ones_corr:' , dataset_corr.shape)\n",
        "\n",
        "mask = np.triu(ones_corr)\n",
        "\n",
        "## Bỏ hàng cuối, bỏ cột cuối trong bảng dataset_corr\n",
        "adjusted_mask = mask[1: , :-1]\n",
        "adjusted_mask_dataset_corr = dataset_corr.iloc[1: , :-1]\n",
        "\n",
        "fig, ax = plt.subplots(figsize = (40, 15)) #heatmap chỉ nhận kiểu dữ liệu số\n",
        "cmap = sns.diverging_palette(0, 230, 90, 60, as_cmap = True)\n",
        "sns.heatmap(data = adjusted_mask_dataset_corr, mask = adjusted_mask, \n",
        "            annot = True, fmt = '.2f', \n",
        "            cmap = cmap, \n",
        "            vmin = -1, vmax = 1, \n",
        "            linecolor = 'white', linewidths = 0.5)"
      ],
      "metadata": {
        "colab": {
          "base_uri": "https://localhost:8080/",
          "height": 540
        },
        "id": "pCsmcqqAb-Rx",
        "outputId": "618aef4c-7c3e-4327-ab6e-13086243ae93"
      },
      "execution_count": 48,
      "outputs": [
        {
          "output_type": "stream",
          "name": "stdout",
          "text": [
            "Kích thước của datacorr:  (19, 19)\n",
            "Kích thước của ones_corr: (19, 19)\n"
          ]
        },
        {
          "output_type": "execute_result",
          "data": {
            "text/plain": [
              "<Axes: >"
            ]
          },
          "metadata": {},
          "execution_count": 48
        },
        {
          "output_type": "display_data",
          "data": {
            "text/plain": [
              "<Figure size 4000x1500 with 2 Axes>"
            ],
            "image/png": "[encoded data removed]"
          },
          "metadata": {}
        }
      ]
    },
    {
      "cell_type": "markdown",
      "source": [
        "**Price Range - Ram**"
      ],
      "metadata": {
        "id": "60250f1Mc4t0"
      }
    },
    {
      "cell_type": "code",
      "source": [
        "sns.barplot(data=df, x=\"price_range\", y=\"ram\")\n",
        "plt.show()"
      ],
      "metadata": {
        "colab": {
          "base_uri": "https://localhost:8080/",
          "height": 450
        },
        "id": "44SeTlpSc7dy",
        "outputId": "e13a8706-b128-4208-c3f4-94ec990a8c1a"
      },
      "execution_count": 49,
      "outputs": [
        {
          "output_type": "display_data",
          "data": {
            "text/plain": [
              "<Figure size 640x480 with 1 Axes>"
            ],
            "image/png": "[encoded data removed]"
          },
          "metadata": {}
        }
      ]
    },
    {
      "cell_type": "markdown",
      "source": [
        "**Price Range - Battery Power**"
      ],
      "metadata": {
        "id": "gNFnHruwf0YR"
      }
    },
    {
      "cell_type": "code",
      "source": [
        "sns.barplot(data=df, x=\"price_range\", y=\"battery_power\")\n",
        "plt.show()"
      ],
      "metadata": {
        "colab": {
          "base_uri": "https://localhost:8080/",
          "height": 450
        },
        "id": "-wziJDiBf7TO",
        "outputId": "926f1a10-60b6-41fc-eb89-fd25ecb8e4f6"
      },
      "execution_count": 50,
      "outputs": [
        {
          "output_type": "display_data",
          "data": {
            "text/plain": [
              "<Figure size 640x480 with 1 Axes>"
            ],
            "image/png": "[encoded data removed]"
          },
          "metadata": {}
        }
      ]
    },
    {
      "cell_type": "markdown",
      "source": [
        "**Price Range - PX Height**"
      ],
      "metadata": {
        "id": "xV5_n0NzgM4h"
      }
    },
    {
      "cell_type": "code",
      "source": [
        "sns.barplot(data=df, x=\"price_range\", y=\"px_height\")\n",
        "plt.show()"
      ],
      "metadata": {
        "colab": {
          "base_uri": "https://localhost:8080/",
          "height": 450
        },
        "id": "4xzEc5H3gSMq",
        "outputId": "c703c99b-beff-489d-ff01-5265f5de8b5a"
      },
      "execution_count": 51,
      "outputs": [
        {
          "output_type": "display_data",
          "data": {
            "text/plain": [
              "<Figure size 640x480 with 1 Axes>"
            ],
            "image/png": "[encoded data removed]"
          },
          "metadata": {}
        }
      ]
    },
    {
      "cell_type": "markdown",
      "source": [
        "**Price Range - PX Width**"
      ],
      "metadata": {
        "id": "lH-iwmwzgW7U"
      }
    },
    {
      "cell_type": "code",
      "source": [
        "sns.barplot(data=df, x=\"price_range\", y=\"px_width\")\n",
        "plt.show()"
      ],
      "metadata": {
        "colab": {
          "base_uri": "https://localhost:8080/",
          "height": 450
        },
        "id": "oGkEacmYgQPW",
        "outputId": "a6a0d159-7036-4fe6-c46d-a3f29da5455e"
      },
      "execution_count": 52,
      "outputs": [
        {
          "output_type": "display_data",
          "data": {
            "text/plain": [
              "<Figure size 640x480 with 1 Axes>"
            ],
            "image/png": "[encoded data removed]"
          },
          "metadata": {}
        }
      ]
    },
    {
      "cell_type": "markdown",
      "source": [
        "# Encoding dữ liệu Categorical"
      ],
      "metadata": {
        "id": "rMR2ClEvUFe6"
      }
    },
    {
      "cell_type": "code",
      "source": [
        "encoder = LabelEncoder()\n",
        "encoder.fit([\"Yes\", \"No\"])"
      ],
      "metadata": {
        "colab": {
          "base_uri": "https://localhost:8080/",
          "height": 74
        },
        "id": "pU1hNKh5UZeS",
        "outputId": "953352df-f4c0-473a-e714-5db3717f15ab"
      },
      "execution_count": 53,
      "outputs": [
        {
          "output_type": "execute_result",
          "data": {
            "text/plain": [
              "LabelEncoder()"
            ],
            "text/html": [
              "<style>#sk-container-id-1 {color: black;background-color: white;}#sk-container-id-1 pre{padding: 0;}#sk-container-id-1 div.sk-toggleable {background-color: white;}#sk-container-id-1 label.sk-toggleable__label {cursor: pointer;display: block;width: 100%;margin-bottom: 0;padding: 0.3em;box-sizing: border-box;text-align: center;}#sk-container-id-1 label.sk-toggleable__label-arrow:before {content: \"▸\";float: left;margin-right: 0.25em;color: #696969;}#sk-container-id-1 label.sk-toggleable__label-arrow:hover:before {color: black;}#sk-container-id-1 div.sk-estimator:hover label.sk-toggleable__label-arrow:before {color: black;}#sk-container-id-1 div.sk-toggleable__content {max-height: 0;max-width: 0;overflow: hidden;text-align: left;background-color: #f0f8ff;}#sk-container-id-1 div.sk-toggleable__content pre {margin: 0.2em;color: black;border-radius: 0.25em;background-color: #f0f8ff;}#sk-container-id-1 input.sk-toggleable__control:checked~div.sk-toggleable__content {max-height: 200px;max-width: 100%;overflow: auto;}#sk-container-id-1 input.sk-toggleable__control:checked~label.sk-toggleable__label-arrow:before {content: \"▾\";}#sk-container-id-1 div.sk-estimator input.sk-toggleable__control:checked~label.sk-toggleable__label {background-color: #d4ebff;}#sk-container-id-1 div.sk-label input.sk-toggleable__control:checked~label.sk-toggleable__label {background-color: #d4ebff;}#sk-container-id-1 input.sk-hidden--visually {border: 0;clip: rect(1px 1px 1px 1px);clip: rect(1px, 1px, 1px, 1px);height: 1px;margin: -1px;overflow: hidden;padding: 0;position: absolute;width: 1px;}#sk-container-id-1 div.sk-estimator {font-family: monospace;background-color: #f0f8ff;border: 1px dotted black;border-radius: 0.25em;box-sizing: border-box;margin-bottom: 0.5em;}#sk-container-id-1 div.sk-estimator:hover {background-color: #d4ebff;}#sk-container-id-1 div.sk-parallel-item::after {content: \"\";width: 100%;border-bottom: 1px solid gray;flex-grow: 1;}#sk-container-id-1 div.sk-label:hover label.sk-toggleable__label {background-color: #d4ebff;}#sk-container-id-1 div.sk-serial::before {content: \"\";position: absolute;border-left: 1px solid gray;box-sizing: border-box;top: 0;bottom: 0;left: 50%;z-index: 0;}#sk-container-id-1 div.sk-serial {display: flex;flex-direction: column;align-items: center;background-color: white;padding-right: 0.2em;padding-left: 0.2em;position: relative;}#sk-container-id-1 div.sk-item {position: relative;z-index: 1;}#sk-container-id-1 div.sk-parallel {display: flex;align-items: stretch;justify-content: center;background-color: white;position: relative;}#sk-container-id-1 div.sk-item::before, #sk-container-id-1 div.sk-parallel-item::before {content: \"\";position: absolute;border-left: 1px solid gray;box-sizing: border-box;top: 0;bottom: 0;left: 50%;z-index: -1;}#sk-container-id-1 div.sk-parallel-item {display: flex;flex-direction: column;z-index: 1;position: relative;background-color: white;}#sk-container-id-1 div.sk-parallel-item:first-child::after {align-self: flex-end;width: 50%;}#sk-container-id-1 div.sk-parallel-item:last-child::after {align-self: flex-start;width: 50%;}#sk-container-id-1 div.sk-parallel-item:only-child::after {width: 0;}#sk-container-id-1 div.sk-dashed-wrapped {border: 1px dashed gray;margin: 0 0.4em 0.5em 0.4em;box-sizing: border-box;padding-bottom: 0.4em;background-color: white;}#sk-container-id-1 div.sk-label label {font-family: monospace;font-weight: bold;display: inline-block;line-height: 1.2em;}#sk-container-id-1 div.sk-label-container {text-align: center;}#sk-container-id-1 div.sk-container {/* jupyter's `normalize.less` sets `[hidden] { display: none; }` but bootstrap.min.css set `[hidden] { display: none !important; }` so we also need the `!important` here to be able to override the default hidden behavior on the sphinx rendered scikit-learn.org. See: https://github.com/scikit-learn/scikit-learn/issues/21755 */display: inline-block !important;position: relative;}#sk-container-id-1 div.sk-text-repr-fallback {display: none;}</style><div id=\"sk-container-id-1\" class=\"sk-top-container\"><div class=\"sk-text-repr-fallback\"><pre>LabelEncoder()</pre><b>In a Jupyter environment, please rerun this cell to show the HTML representation or trust the notebook. <br />On GitHub, the HTML representation is unable to render, please try loading this page with nbviewer.org.</b></div><div class=\"sk-container\" hidden><div class=\"sk-item\"><div class=\"sk-estimator sk-toggleable\"><input class=\"sk-toggleable__control sk-hidden--visually\" id=\"sk-estimator-id-1\" type=\"checkbox\" checked><label for=\"sk-estimator-id-1\" class=\"sk-toggleable__label sk-toggleable__label-arrow\">LabelEncoder</label><div class=\"sk-toggleable__content\"><pre>LabelEncoder()</pre></div></div></div></div></div>"
            ]
          },
          "metadata": {},
          "execution_count": 53
        }
      ]
    },
    {
      "cell_type": "code",
      "source": [
        "df['wifi'] = encoder.transform(df['wifi'])\n",
        "df['touch_screen'] = encoder.transform(df['touch_screen'])"
      ],
      "metadata": {
        "id": "7CdDi-spXIza"
      },
      "execution_count": 54,
      "outputs": []
    },
    {
      "cell_type": "code",
      "source": [
        "df.head()"
      ],
      "metadata": {
        "colab": {
          "base_uri": "https://localhost:8080/",
          "height": 299
        },
        "id": "wYw7pU9IXfBS",
        "outputId": "808595bf-7ac2-408d-8d66-cff8b14f930a"
      },
      "execution_count": 55,
      "outputs": [
        {
          "output_type": "execute_result",
          "data": {
            "text/plain": [
              "   battery_power  blue  clock_speed  dual_sim  fc  four_g  int_memory  m_dep  \\\n",
              "0            842   0.0          2.2       0.0   1     0.0           7    0.6   \n",
              "1           1021   1.0          0.5       1.0   0     1.0          53    0.7   \n",
              "2            563   1.0          0.5       1.0   2     1.0          41    0.9   \n",
              "3            615   1.0          2.5       0.0   0     0.0          10    0.8   \n",
              "4           1821   1.0          1.2       0.0  13     1.0          44    0.6   \n",
              "\n",
              "   mobile_wt  n_cores  ...  px_height  px_width   ram  sc_h  sc_w  talk_time  \\\n",
              "0        188        2  ...         20       756  2549   9.0     7         19   \n",
              "1        136        3  ...        905      1988  2631  17.0     3          7   \n",
              "2        145        5  ...       1263      1716  2603  11.0     2          9   \n",
              "3        131        6  ...       1216      1786  2769  16.0     8         11   \n",
              "4        141        2  ...       1208      1212  1411   8.0     2         15   \n",
              "\n",
              "   three_g  touch_screen  wifi  price_range  \n",
              "0      0.0             0     1            1  \n",
              "1      1.0             1     0            2  \n",
              "2      1.0             1     0            2  \n",
              "3      1.0             0     0            2  \n",
              "4      1.0             1     0            1  \n",
              "\n",
              "[5 rows x 21 columns]"
            ],
            "text/html": [
              "\n",
              "  <div id=\"df-f492161d-7ae3-4c4e-9ba2-b193e062ac81\">\n",
              "    <div class=\"colab-df-container\">\n",
              "      <div>\n",
              "<style scoped>\n",
              "    .dataframe tbody tr th:only-of-type {\n",
              "        vertical-align: middle;\n",
              "    }\n",
              "\n",
              "    .dataframe tbody tr th {\n",
              "        vertical-align: top;\n",
              "    }\n",
              "\n",
              "    .dataframe thead th {\n",
              "        text-align: right;\n",
              "    }\n",
              "</style>\n",
              "<table border=\"1\" class=\"dataframe\">\n",
              "  <thead>\n",
              "    <tr style=\"text-align: right;\">\n",
              "      <th></th>\n",
              "      <th>battery_power</th>\n",
              "      <th>blue</th>\n",
              "      <th>clock_speed</th>\n",
              "      <th>dual_sim</th>\n",
              "      <th>fc</th>\n",
              "      <th>four_g</th>\n",
              "      <th>int_memory</th>\n",
              "      <th>m_dep</th>\n",
              "      <th>mobile_wt</th>\n",
              "      <th>n_cores</th>\n",
              "      <th>...</th>\n",
              "      <th>px_height</th>\n",
              "      <th>px_width</th>\n",
              "      <th>ram</th>\n",
              "      <th>sc_h</th>\n",
              "      <th>sc_w</th>\n",
              "      <th>talk_time</th>\n",
              "      <th>three_g</th>\n",
              "      <th>touch_screen</th>\n",
              "      <th>wifi</th>\n",
              "      <th>price_range</th>\n",
              "    </tr>\n",
              "  </thead>\n",
              "  <tbody>\n",
              "    <tr>\n",
              "      <th>0</th>\n",
              "      <td>842</td>\n",
              "      <td>0.0</td>\n",
              "      <td>2.2</td>\n",
              "      <td>0.0</td>\n",
              "      <td>1</td>\n",
              "      <td>0.0</td>\n",
              "      <td>7</td>\n",
              "      <td>0.6</td>\n",
              "      <td>188</td>\n",
              "      <td>2</td>\n",
              "      <td>...</td>\n",
              "      <td>20</td>\n",
              "      <td>756</td>\n",
              "      <td>2549</td>\n",
              "      <td>9.0</td>\n",
              "      <td>7</td>\n",
              "      <td>19</td>\n",
              "      <td>0.0</td>\n",
              "      <td>0</td>\n",
              "      <td>1</td>\n",
              "      <td>1</td>\n",
              "    </tr>\n",
              "    <tr>\n",
              "      <th>1</th>\n",
              "      <td>1021</td>\n",
              "      <td>1.0</td>\n",
              "      <td>0.5</td>\n",
              "      <td>1.0</td>\n",
              "      <td>0</td>\n",
              "      <td>1.0</td>\n",
              "      <td>53</td>\n",
              "      <td>0.7</td>\n",
              "      <td>136</td>\n",
              "      <td>3</td>\n",
              "      <td>...</td>\n",
              "      <td>905</td>\n",
              "      <td>1988</td>\n",
              "      <td>2631</td>\n",
              "      <td>17.0</td>\n",
              "      <td>3</td>\n",
              "      <td>7</td>\n",
              "      <td>1.0</td>\n",
              "      <td>1</td>\n",
              "      <td>0</td>\n",
              "      <td>2</td>\n",
              "    </tr>\n",
              "    <tr>\n",
              "      <th>2</th>\n",
              "      <td>563</td>\n",
              "      <td>1.0</td>\n",
              "      <td>0.5</td>\n",
              "      <td>1.0</td>\n",
              "      <td>2</td>\n",
              "      <td>1.0</td>\n",
              "      <td>41</td>\n",
              "      <td>0.9</td>\n",
              "      <td>145</td>\n",
              "      <td>5</td>\n",
              "      <td>...</td>\n",
              "      <td>1263</td>\n",
              "      <td>1716</td>\n",
              "      <td>2603</td>\n",
              "      <td>11.0</td>\n",
              "      <td>2</td>\n",
              "      <td>9</td>\n",
              "      <td>1.0</td>\n",
              "      <td>1</td>\n",
              "      <td>0</td>\n",
              "      <td>2</td>\n",
              "    </tr>\n",
              "    <tr>\n",
              "      <th>3</th>\n",
              "      <td>615</td>\n",
              "      <td>1.0</td>\n",
              "      <td>2.5</td>\n",
              "      <td>0.0</td>\n",
              "      <td>0</td>\n",
              "      <td>0.0</td>\n",
              "      <td>10</td>\n",
              "      <td>0.8</td>\n",
              "      <td>131</td>\n",
              "      <td>6</td>\n",
              "      <td>...</td>\n",
              "      <td>1216</td>\n",
              "      <td>1786</td>\n",
              "      <td>2769</td>\n",
              "      <td>16.0</td>\n",
              "      <td>8</td>\n",
              "      <td>11</td>\n",
              "      <td>1.0</td>\n",
              "      <td>0</td>\n",
              "      <td>0</td>\n",
              "      <td>2</td>\n",
              "    </tr>\n",
              "    <tr>\n",
              "      <th>4</th>\n",
              "      <td>1821</td>\n",
              "      <td>1.0</td>\n",
              "      <td>1.2</td>\n",
              "      <td>0.0</td>\n",
              "      <td>13</td>\n",
              "      <td>1.0</td>\n",
              "      <td>44</td>\n",
              "      <td>0.6</td>\n",
              "      <td>141</td>\n",
              "      <td>2</td>\n",
              "      <td>...</td>\n",
              "      <td>1208</td>\n",
              "      <td>1212</td>\n",
              "      <td>1411</td>\n",
              "      <td>8.0</td>\n",
              "      <td>2</td>\n",
              "      <td>15</td>\n",
              "      <td>1.0</td>\n",
              "      <td>1</td>\n",
              "      <td>0</td>\n",
              "      <td>1</td>\n",
              "    </tr>\n",
              "  </tbody>\n",
              "</table>\n",
              "<p>5 rows × 21 columns</p>\n",
              "</div>\n",
              "      <button class=\"colab-df-convert\" onclick=\"convertToInteractive('df-f492161d-7ae3-4c4e-9ba2-b193e062ac81')\"\n",
              "              title=\"Convert this dataframe to an interactive table.\"\n",
              "              style=\"display:none;\">\n",
              "        \n",
              "  <svg xmlns=\"http://www.w3.org/2000/svg\" height=\"24px\"viewBox=\"0 0 24 24\"\n",
              "       width=\"24px\">\n",
              "    <path d=\"M0 0h24v24H0V0z\" fill=\"none\"/>\n",
              "    <path d=\"M18.56 5.44l.94 2.06.94-2.06 2.06-.94-2.06-.94-.94-2.06-.94 2.06-2.06.94zm-11 1L8.5 8.5l.94-2.06 2.06-.94-2.06-.94L8.5 2.5l-.94 2.06-2.06.94zm10 10l.94 2.06.94-2.06 2.06-.94-2.06-.94-.94-2.06-.94 2.06-2.06.94z\"/><path d=\"M17.41 7.96l-1.37-1.37c-.4-.4-.92-.59-1.43-.59-.52 0-1.04.2-1.43.59L10.3 9.45l-7.72 7.72c-.78.78-.78 2.05 0 2.83L4 21.41c.39.39.9.59 1.41.59.51 0 1.02-.2 1.41-.59l7.78-7.78 2.81-2.81c.8-.78.8-2.07 0-2.86zM5.41 20L4 18.59l7.72-7.72 1.47 1.35L5.41 20z\"/>\n",
              "  </svg>\n",
              "      </button>\n",
              "      \n",
              "  <style>\n",
              "    .colab-df-container {\n",
              "      display:flex;\n",
              "      flex-wrap:wrap;\n",
              "      gap: 12px;\n",
              "    }\n",
              "\n",
              "    .colab-df-convert {\n",
              "      background-color: #E8F0FE;\n",
              "      border: none;\n",
              "      border-radius: 50%;\n",
              "      cursor: pointer;\n",
              "      display: none;\n",
              "      fill: #1967D2;\n",
              "      height: 32px;\n",
              "      padding: 0 0 0 0;\n",
              "      width: 32px;\n",
              "    }\n",
              "\n",
              "    .colab-df-convert:hover {\n",
              "      background-color: #E2EBFA;\n",
              "      box-shadow: 0px 1px 2px rgba(60, 64, 67, 0.3), 0px 1px 3px 1px rgba(60, 64, 67, 0.15);\n",
              "      fill: #174EA6;\n",
              "    }\n",
              "\n",
              "    [theme=dark] .colab-df-convert {\n",
              "      background-color: #3B4455;\n",
              "      fill: #D2E3FC;\n",
              "    }\n",
              "\n",
              "    [theme=dark] .colab-df-convert:hover {\n",
              "      background-color: #434B5C;\n",
              "      box-shadow: 0px 1px 3px 1px rgba(0, 0, 0, 0.15);\n",
              "      filter: drop-shadow(0px 1px 2px rgba(0, 0, 0, 0.3));\n",
              "      fill: #FFFFFF;\n",
              "    }\n",
              "  </style>\n",
              "\n",
              "      <script>\n",
              "        const buttonEl =\n",
              "          document.querySelector('#df-f492161d-7ae3-4c4e-9ba2-b193e062ac81 button.colab-df-convert');\n",
              "        buttonEl.style.display =\n",
              "          google.colab.kernel.accessAllowed ? 'block' : 'none';\n",
              "\n",
              "        async function convertToInteractive(key) {\n",
              "          const element = document.querySelector('#df-f492161d-7ae3-4c4e-9ba2-b193e062ac81');\n",
              "          const dataTable =\n",
              "            await google.colab.kernel.invokeFunction('convertToInteractive',\n",
              "                                                     [key], {});\n",
              "          if (!dataTable) return;\n",
              "\n",
              "          const docLinkHtml = 'Like what you see? Visit the ' +\n",
              "            '<a target=\"_blank\" href=https://colab.research.google.com/notebooks/data_table.ipynb>data table notebook</a>'\n",
              "            + ' to learn more about interactive tables.';\n",
              "          element.innerHTML = '';\n",
              "          dataTable['output_type'] = 'display_data';\n",
              "          await google.colab.output.renderOutput(dataTable, element);\n",
              "          const docLink = document.createElement('div');\n",
              "          docLink.innerHTML = docLinkHtml;\n",
              "          element.appendChild(docLink);\n",
              "        }\n",
              "      </script>\n",
              "    </div>\n",
              "  </div>\n",
              "  "
            ]
          },
          "metadata": {},
          "execution_count": 55
        }
      ]
    },
    {
      "cell_type": "markdown",
      "source": [
        "# Tách dữ liệu thành Features X và Target y"
      ],
      "metadata": {
        "id": "znSNK1UeYI8K"
      }
    },
    {
      "cell_type": "code",
      "source": [
        "X = df.iloc[:, :20].values\n",
        "y = df.iloc[:, 20:21].values"
      ],
      "metadata": {
        "id": "sOdSb86wYPBS"
      },
      "execution_count": 56,
      "outputs": []
    },
    {
      "cell_type": "markdown",
      "source": [
        "# Chuẩn hóa dữ liệu"
      ],
      "metadata": {
        "id": "b6K872ylYydq"
      }
    },
    {
      "cell_type": "code",
      "source": [
        "sc = StandardScaler()\n",
        "X = sc.fit_transform(X)\n",
        "print(\"Dữ liệu sau khi chuẩn hóa:\")\n",
        "X[0]"
      ],
      "metadata": {
        "colab": {
          "base_uri": "https://localhost:8080/"
        },
        "id": "4_MJmAEEY02T",
        "outputId": "406f089c-4dfe-4e8a-cb91-88cc3e627e08"
      },
      "execution_count": 57,
      "outputs": [
        {
          "output_type": "stream",
          "name": "stdout",
          "text": [
            "Dữ liệu sau khi chuẩn hóa:\n"
          ]
        },
        {
          "output_type": "execute_result",
          "data": {
            "text/plain": [
              "array([-0.89747427, -0.98894994,  0.83086164, -1.01835015, -0.76544664,\n",
              "       -1.04230837, -1.38255799,  0.33874273,  1.3520954 , -1.10328271,\n",
              "       -1.30131365, -1.41227303, -1.14403029,  0.3909165 , -0.79580688,\n",
              "        0.28144878,  1.46544791, -1.78247446, -1.00303491,  0.98994949])"
            ]
          },
          "metadata": {},
          "execution_count": 57
        }
      ]
    },
    {
      "cell_type": "markdown",
      "source": [
        "# One hot-encoding y phục vụ MLP"
      ],
      "metadata": {
        "id": "pH0tRO44ZPnS"
      }
    },
    {
      "cell_type": "code",
      "source": [
        "ohe = OneHotEncoder()\n",
        "y_MLP = ohe.fit_transform(y).toarray()\n",
        "print('One hot encoded:')\n",
        "y_MLP[0:5]"
      ],
      "metadata": {
        "colab": {
          "base_uri": "https://localhost:8080/"
        },
        "id": "A7AdhPswZeO5",
        "outputId": "33df82c9-7820-4f15-a735-f7452b565e6c"
      },
      "execution_count": 58,
      "outputs": [
        {
          "output_type": "stream",
          "name": "stdout",
          "text": [
            "One hot encoded:\n"
          ]
        },
        {
          "output_type": "execute_result",
          "data": {
            "text/plain": [
              "array([[0., 1., 0., 0.],\n",
              "       [0., 0., 1., 0.],\n",
              "       [0., 0., 1., 0.],\n",
              "       [0., 0., 1., 0.],\n",
              "       [0., 1., 0., 0.]])"
            ]
          },
          "metadata": {},
          "execution_count": 58
        }
      ]
    },
    {
      "cell_type": "code",
      "source": [
        "y[0:5]"
      ],
      "metadata": {
        "colab": {
          "base_uri": "https://localhost:8080/"
        },
        "id": "CXjENk0raBa6",
        "outputId": "5dd7d0bc-62c0-44ca-e303-a7868368faae"
      },
      "execution_count": 59,
      "outputs": [
        {
          "output_type": "execute_result",
          "data": {
            "text/plain": [
              "array([[1],\n",
              "       [2],\n",
              "       [2],\n",
              "       [2],\n",
              "       [1]])"
            ]
          },
          "metadata": {},
          "execution_count": 59
        }
      ]
    },
    {
      "cell_type": "markdown",
      "source": [
        "# Tách dữ liệu thành tập train và tập test"
      ],
      "metadata": {
        "id": "_x4-rs-xaQYL"
      }
    },
    {
      "cell_type": "code",
      "source": [
        "X_train, X_test, y_train, y_test = train_test_split(X, y, test_size = 0.2, random_state = 11)"
      ],
      "metadata": {
        "id": "FWV-_Sd-aUuq"
      },
      "execution_count": 60,
      "outputs": []
    },
    {
      "cell_type": "code",
      "source": [
        "y_MLP_train, y_MLP_test = train_test_split(y_MLP, test_size = 0.2, random_state = 11)"
      ],
      "metadata": {
        "id": "pGi_c9Kga9by"
      },
      "execution_count": 61,
      "outputs": []
    }
  ]
}